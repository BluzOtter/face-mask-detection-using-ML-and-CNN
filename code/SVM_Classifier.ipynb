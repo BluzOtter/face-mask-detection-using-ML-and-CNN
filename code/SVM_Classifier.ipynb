{
  "cells": [
    {
      "cell_type": "markdown",
      "metadata": {
        "id": "82DwMEoVcK2U"
      },
      "source": [
        "# SVM Classifier using 100% of the dataset"
      ]
    },
    {
      "cell_type": "markdown",
      "metadata": {
        "id": "KiA_ZEwRcK2W"
      },
      "source": [
        "### Import Packages"
      ]
    },
    {
      "cell_type": "code",
      "execution_count": null,
      "metadata": {
        "id": "Okx9dfpTcK2X"
      },
      "outputs": [],
      "source": [
        "# For data management\n",
        "import pandas as pd\n",
        "import numpy as np\n",
        "import pickle\n",
        "\n",
        "from sklearn import svm\n",
        "from sklearn import metrics\n",
        "\n",
        "from sklearn.model_selection import train_test_split\n",
        "\n",
        "# For plotting\n",
        "import matplotlib.pyplot as plt\n",
        "%matplotlib inline \n"
      ]
    },
    {
      "cell_type": "markdown",
      "metadata": {
        "id": "oCA2EA4ncK2Y"
      },
      "source": [
        "### Load Dataset"
      ]
    },
    {
      "cell_type": "code",
      "source": [
        "%cd /content/drive/MyDrive/Face-Mask-Dataset"
      ],
      "metadata": {
        "colab": {
          "base_uri": "https://localhost:8080/"
        },
        "id": "lVlpr9FN3a-9",
        "outputId": "6236b64c-37e5-434b-fc45-6c30a5f73a58"
      },
      "execution_count": null,
      "outputs": [
        {
          "output_type": "stream",
          "name": "stdout",
          "text": [
            "/content/drive/.shortcut-targets-by-id/1PPafcxxA7mViQpMt0wWWKP6k38Lp7jyJ/Face-Mask-Dataset\n"
          ]
        }
      ]
    },
    {
      "cell_type": "code",
      "source": [
        "from google.colab import drive\n",
        "drive.mount('/content/drive')"
      ],
      "metadata": {
        "colab": {
          "base_uri": "https://localhost:8080/"
        },
        "id": "Hdja__Ep3meu",
        "outputId": "2a1ab203-a7ec-4874-ba58-c3a4fa3f860e"
      },
      "execution_count": null,
      "outputs": [
        {
          "output_type": "stream",
          "name": "stdout",
          "text": [
            "Mounted at /content/drive\n"
          ]
        }
      ]
    },
    {
      "cell_type": "code",
      "execution_count": null,
      "metadata": {
        "id": "4AOIKTRNcK2Y"
      },
      "outputs": [],
      "source": [
        "pickle_in = open(\"X.pickle\", \"rb\")\n",
        "X = pickle.load(pickle_in)\n",
        "pickle_in = open(\"y.pickle\", \"rb\")\n",
        "y = pickle.load(pickle_in)\n",
        "\n",
        "#X an y for 75%, 50%, and 25% of the dataset\n",
        "X_75, X_extra, y_75, y_extra = train_test_split(X, y, train_size=.75)\n",
        "X_50, X_extra, y_50, y_extra = train_test_split(X, y, train_size=.50)\n",
        "X_25, X_extra, y_25, y_extra = train_test_split(X, y, train_size=.25)"
      ]
    },
    {
      "cell_type": "markdown",
      "metadata": {
        "id": "bVwXpcJocK2Z"
      },
      "source": [
        "### Split 100 % of the dataset into Training and Testing"
      ]
    },
    {
      "cell_type": "code",
      "execution_count": null,
      "metadata": {
        "id": "snShJkm_cK2Z"
      },
      "outputs": [],
      "source": [
        "X_train, X_test, y_train, y_test = train_test_split(X, y, test_size=0.25)"
      ]
    },
    {
      "cell_type": "markdown",
      "metadata": {
        "id": "1uBrQh1ncK2a"
      },
      "source": [
        "### Building and fitting SVM model"
      ]
    },
    {
      "cell_type": "code",
      "source": [
        "nsamples, nx, ny = X_train.shape\n",
        "X_train = X_train.reshape((nsamples,nx*ny))"
      ],
      "metadata": {
        "id": "xopskoMX_inL"
      },
      "execution_count": null,
      "outputs": []
    },
    {
      "cell_type": "code",
      "execution_count": null,
      "metadata": {
        "id": "braT3qsEcK2a",
        "colab": {
          "base_uri": "https://localhost:8080/"
        },
        "outputId": "dbe97510-84f0-43ba-85db-706b6b7de4b2"
      },
      "outputs": [
        {
          "output_type": "execute_result",
          "data": {
            "text/plain": [
              "SVC()"
            ]
          },
          "metadata": {},
          "execution_count": 8
        }
      ],
      "source": [
        "model_100 = svm.SVC()\n",
        "model_100.fit(X_train, y_train)"
      ]
    },
    {
      "cell_type": "markdown",
      "metadata": {
        "id": "ZIAxyCdRcK2d"
      },
      "source": [
        "### Evaluate performance for using 100% of the dataset"
      ]
    },
    {
      "cell_type": "code",
      "source": [
        "nsamples, nx, ny = X_test.shape\n",
        "X_test = X_test.reshape((nsamples,nx*ny))"
      ],
      "metadata": {
        "id": "AGaZCHLOrwBK"
      },
      "execution_count": null,
      "outputs": []
    },
    {
      "cell_type": "code",
      "execution_count": null,
      "metadata": {
        "id": "nHFMO-eQcK2e",
        "colab": {
          "base_uri": "https://localhost:8080/"
        },
        "outputId": "978a47d7-a5ab-4635-a141-6038d73c5966"
      },
      "outputs": [
        {
          "output_type": "stream",
          "name": "stdout",
          "text": [
            "Accuracy 0.962772\n"
          ]
        },
        {
          "output_type": "execute_result",
          "data": {
            "text/plain": [
              "0.9627719219555955"
            ]
          },
          "metadata": {},
          "execution_count": 10
        }
      ],
      "source": [
        "### 1. Get and print a baseline accuracy score.\n",
        "y_pred = model_100.predict(X_test)\n",
        "accuracy = model_100.score(X_test, y_test)\n",
        "print(\"Accuracy %f\" % accuracy)\n",
        "metrics.accuracy_score(y_true=y_test, y_pred=y_pred)"
      ]
    },
    {
      "cell_type": "code",
      "execution_count": null,
      "metadata": {
        "id": "hGuLzbzocK2e",
        "colab": {
          "base_uri": "https://localhost:8080/"
        },
        "outputId": "9a371354-45fa-4fd4-876f-0d2ac855965f"
      },
      "outputs": [
        {
          "output_type": "stream",
          "name": "stdout",
          "text": [
            "              precision    recall  f1-score   support\n",
            "\n",
            "           0       0.96      0.95      0.95      1455\n",
            "           1       0.99      0.99      0.99      1525\n",
            "           2       0.94      0.95      0.94      1479\n",
            "\n",
            "    accuracy                           0.96      4459\n",
            "   macro avg       0.96      0.96      0.96      4459\n",
            "weighted avg       0.96      0.96      0.96      4459\n",
            "\n"
          ]
        }
      ],
      "source": [
        "print(metrics.classification_report(y_test, y_pred))"
      ]
    },
    {
      "cell_type": "markdown",
      "metadata": {
        "id": "to5i74o3cK2f"
      },
      "source": [
        "# SVM Classifier using 75% of the dataset"
      ]
    },
    {
      "cell_type": "code",
      "execution_count": null,
      "metadata": {
        "id": "bbW_jjBncK2f"
      },
      "outputs": [],
      "source": [
        "X_train, X_test, y_train, y_test = train_test_split(X_75, y_75, test_size=0.25)"
      ]
    },
    {
      "cell_type": "code",
      "source": [
        "nsamples, nx, ny = X_train.shape\n",
        "X_train = X_train.reshape((nsamples,nx*ny))"
      ],
      "metadata": {
        "id": "aGz3YNY-r2oQ"
      },
      "execution_count": null,
      "outputs": []
    },
    {
      "cell_type": "code",
      "execution_count": null,
      "metadata": {
        "id": "B4kNjA3ZcK2f",
        "outputId": "03b47f9c-25da-4d8d-d1f2-632559b3ce90",
        "colab": {
          "base_uri": "https://localhost:8080/"
        }
      },
      "outputs": [
        {
          "output_type": "execute_result",
          "data": {
            "text/plain": [
              "SVC()"
            ]
          },
          "metadata": {},
          "execution_count": 14
        }
      ],
      "source": [
        "model_75 = svm.SVC()\n",
        "model_75.fit(X_train, y_train)"
      ]
    },
    {
      "cell_type": "markdown",
      "metadata": {
        "id": "uhrVaB03cK2g"
      },
      "source": [
        "### Evaluate performance for using 75% of the dataset"
      ]
    },
    {
      "cell_type": "code",
      "source": [
        "nsamples, nx, ny = X_test.shape\n",
        "X_test = X_test.reshape((nsamples,nx*ny))"
      ],
      "metadata": {
        "id": "ertCmFz7r8b6"
      },
      "execution_count": null,
      "outputs": []
    },
    {
      "cell_type": "code",
      "execution_count": null,
      "metadata": {
        "id": "t6mxQQBMcK2g",
        "outputId": "beaab7cc-ba38-475f-9676-3efe1888bcb7",
        "colab": {
          "base_uri": "https://localhost:8080/"
        }
      },
      "outputs": [
        {
          "output_type": "stream",
          "name": "stdout",
          "text": [
            "Accuracy 0.951570\n"
          ]
        },
        {
          "output_type": "execute_result",
          "data": {
            "text/plain": [
              "0.9515695067264573"
            ]
          },
          "metadata": {},
          "execution_count": 16
        }
      ],
      "source": [
        "### 1. Get and print a baseline accuracy score.\n",
        "y_pred = model_75.predict(X_test)\n",
        "accuracy = model_75.score(X_test, y_test)\n",
        "print(\"Accuracy %f\" % accuracy)\n",
        "metrics.accuracy_score(y_true=y_test, y_pred=y_pred)"
      ]
    },
    {
      "cell_type": "code",
      "source": [
        "print(metrics.classification_report(y_test, y_pred))"
      ],
      "metadata": {
        "colab": {
          "base_uri": "https://localhost:8080/"
        },
        "id": "10EeWKEI4GYE",
        "outputId": "9dbc8bd9-e99e-4a75-9f41-0e224bb1ff9c"
      },
      "execution_count": null,
      "outputs": [
        {
          "output_type": "stream",
          "name": "stdout",
          "text": [
            "              precision    recall  f1-score   support\n",
            "\n",
            "           0       0.94      0.94      0.94      1084\n",
            "           1       0.99      0.98      0.99      1140\n",
            "           2       0.93      0.93      0.93      1121\n",
            "\n",
            "    accuracy                           0.95      3345\n",
            "   macro avg       0.95      0.95      0.95      3345\n",
            "weighted avg       0.95      0.95      0.95      3345\n",
            "\n"
          ]
        }
      ]
    },
    {
      "cell_type": "markdown",
      "metadata": {
        "id": "tg0MLfSbcK2g"
      },
      "source": [
        "# SVM Classifier using 50% of the dataset"
      ]
    },
    {
      "cell_type": "code",
      "execution_count": null,
      "metadata": {
        "id": "8A1Le-igcK2g"
      },
      "outputs": [],
      "source": [
        "X_train, X_test, y_train, y_test = train_test_split(X_50, y_50, test_size=0.25)"
      ]
    },
    {
      "cell_type": "code",
      "source": [
        "nsamples, nx, ny = X_train.shape\n",
        "X_train = X_train.reshape((nsamples,nx*ny))"
      ],
      "metadata": {
        "id": "ao1j42B3r30D"
      },
      "execution_count": null,
      "outputs": []
    },
    {
      "cell_type": "code",
      "execution_count": null,
      "metadata": {
        "id": "V5J7mrUScK2h",
        "outputId": "ec56ba3a-5b56-4641-d342-b2852593f0e4",
        "colab": {
          "base_uri": "https://localhost:8080/"
        }
      },
      "outputs": [
        {
          "output_type": "execute_result",
          "data": {
            "text/plain": [
              "SVC()"
            ]
          },
          "metadata": {},
          "execution_count": 20
        }
      ],
      "source": [
        "model_50 = svm.SVC()\n",
        "model_50.fit(X_train, y_train)"
      ]
    },
    {
      "cell_type": "markdown",
      "metadata": {
        "id": "_mpGWfHbcK2h"
      },
      "source": [
        "### Evaluate performance for using 50% of the dataset"
      ]
    },
    {
      "cell_type": "code",
      "source": [
        "nsamples, nx, ny = X_test.shape\n",
        "X_test = X_test.reshape((nsamples,nx*ny))"
      ],
      "metadata": {
        "id": "_Q7QPA3_r9py"
      },
      "execution_count": null,
      "outputs": []
    },
    {
      "cell_type": "code",
      "execution_count": null,
      "metadata": {
        "id": "Jjl62JwKcK2h",
        "outputId": "3f32e445-43ec-4d14-a933-e235d7398715",
        "colab": {
          "base_uri": "https://localhost:8080/"
        }
      },
      "outputs": [
        {
          "output_type": "stream",
          "name": "stdout",
          "text": [
            "Accuracy 0.950224\n"
          ]
        },
        {
          "output_type": "execute_result",
          "data": {
            "text/plain": [
              "0.9502242152466368"
            ]
          },
          "metadata": {},
          "execution_count": 22
        }
      ],
      "source": [
        "### 1. Get and print a baseline accuracy score.\n",
        "y_pred = model_50.predict(X_test)\n",
        "accuracy = model_50.score(X_test, y_test)\n",
        "print(\"Accuracy %f\" % accuracy)\n",
        "metrics.accuracy_score(y_true=y_test, y_pred=y_pred)"
      ]
    },
    {
      "cell_type": "code",
      "source": [
        "print(metrics.classification_report(y_test, y_pred))"
      ],
      "metadata": {
        "colab": {
          "base_uri": "https://localhost:8080/"
        },
        "id": "x6dc_0gBC6E9",
        "outputId": "b83fcdd1-bce6-4faa-8b87-4daf5fe3666a"
      },
      "execution_count": null,
      "outputs": [
        {
          "output_type": "stream",
          "name": "stdout",
          "text": [
            "              precision    recall  f1-score   support\n",
            "\n",
            "           0       0.94      0.93      0.94       723\n",
            "           1       0.99      0.98      0.98       763\n",
            "           2       0.92      0.93      0.93       744\n",
            "\n",
            "    accuracy                           0.95      2230\n",
            "   macro avg       0.95      0.95      0.95      2230\n",
            "weighted avg       0.95      0.95      0.95      2230\n",
            "\n"
          ]
        }
      ]
    },
    {
      "cell_type": "code",
      "source": [
        "# Save Predictions in a pickle\n",
        "pickle_out = open(\"model_50.pickle\", \"wb\")\n",
        "pickle.dump(model_50, pickle_out)\n",
        "pickle_out.close()"
      ],
      "metadata": {
        "id": "PZrHPbDl4jOB"
      },
      "execution_count": null,
      "outputs": []
    },
    {
      "cell_type": "markdown",
      "metadata": {
        "id": "Fk0_wV--cK2i"
      },
      "source": [
        "# SVM Classifier using 25% of the dataset"
      ]
    },
    {
      "cell_type": "code",
      "execution_count": null,
      "metadata": {
        "id": "1aPOez5PcK2i"
      },
      "outputs": [],
      "source": [
        "X_train, X_test, y_train, y_test = train_test_split(X_25, y_25, test_size=0.25)"
      ]
    },
    {
      "cell_type": "code",
      "source": [
        "nsamples, nx, ny = X_train.shape\n",
        "X_train = X_train.reshape((nsamples,nx*ny))"
      ],
      "metadata": {
        "id": "EUCnm0iur5JU"
      },
      "execution_count": null,
      "outputs": []
    },
    {
      "cell_type": "code",
      "execution_count": null,
      "metadata": {
        "id": "Qt3sa2VucK2i",
        "outputId": "15eaa164-bb86-4d88-f2fa-ce3213d48e4c",
        "colab": {
          "base_uri": "https://localhost:8080/"
        }
      },
      "outputs": [
        {
          "output_type": "execute_result",
          "data": {
            "text/plain": [
              "SVC()"
            ]
          },
          "metadata": {},
          "execution_count": 26
        }
      ],
      "source": [
        "model_25 = svm.SVC()\n",
        "model_25.fit(X_train, y_train)"
      ]
    },
    {
      "cell_type": "markdown",
      "metadata": {
        "id": "ICYvJ5COcK2i"
      },
      "source": [
        "### Evaluate performance for using 25% of the dataset"
      ]
    },
    {
      "cell_type": "code",
      "source": [
        "nsamples, nx, ny = X_test.shape\n",
        "X_test = X_test.reshape((nsamples,nx*ny))"
      ],
      "metadata": {
        "id": "jQWJ02mnr_KQ"
      },
      "execution_count": null,
      "outputs": []
    },
    {
      "cell_type": "code",
      "execution_count": null,
      "metadata": {
        "id": "tZZ2i5ltcK2j",
        "outputId": "c7709df0-076a-4711-fb87-3174b23bac7b",
        "colab": {
          "base_uri": "https://localhost:8080/"
        }
      },
      "outputs": [
        {
          "output_type": "stream",
          "name": "stdout",
          "text": [
            "Accuracy 0.938117\n"
          ]
        },
        {
          "output_type": "execute_result",
          "data": {
            "text/plain": [
              "0.9381165919282511"
            ]
          },
          "metadata": {},
          "execution_count": 28
        }
      ],
      "source": [
        "### 1. Get and print a baseline accuracy score.\n",
        "y_pred = model_25.predict(X_test)\n",
        "accuracy = model_25.score(X_test, y_test)\n",
        "print(\"Accuracy %f\" % accuracy)\n",
        "metrics.accuracy_score(y_true=y_test, y_pred=y_pred)"
      ]
    },
    {
      "cell_type": "code",
      "execution_count": null,
      "metadata": {
        "id": "uXdvMlpkcK2j",
        "colab": {
          "base_uri": "https://localhost:8080/"
        },
        "outputId": "d70681f5-a356-48ca-afef-3ea2e2bf35cd"
      },
      "outputs": [
        {
          "output_type": "stream",
          "name": "stdout",
          "text": [
            "              precision    recall  f1-score   support\n",
            "\n",
            "           0       0.91      0.96      0.93       370\n",
            "           1       0.97      0.97      0.97       352\n",
            "           2       0.93      0.89      0.91       393\n",
            "\n",
            "    accuracy                           0.94      1115\n",
            "   macro avg       0.94      0.94      0.94      1115\n",
            "weighted avg       0.94      0.94      0.94      1115\n",
            "\n"
          ]
        }
      ],
      "source": [
        "print(metrics.classification_report(y_test, y_pred))"
      ]
    }
  ],
  "metadata": {
    "kernelspec": {
      "display_name": "Python 3",
      "language": "python",
      "name": "python3"
    },
    "language_info": {
      "codemirror_mode": {
        "name": "ipython",
        "version": 3
      },
      "file_extension": ".py",
      "mimetype": "text/x-python",
      "name": "python",
      "nbconvert_exporter": "python",
      "pygments_lexer": "ipython3",
      "version": "3.8.5"
    },
    "colab": {
      "name": "SVM_Classifier.ipynb",
      "provenance": [],
      "collapsed_sections": [],
      "toc_visible": true
    }
  },
  "nbformat": 4,
  "nbformat_minor": 0
}