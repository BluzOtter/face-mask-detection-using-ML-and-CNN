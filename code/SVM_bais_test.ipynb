{
  "cells": [
    {
      "cell_type": "code",
      "source": [
        "from google.colab import drive\n",
        "drive.mount('/content/drive')"
      ],
      "metadata": {
        "colab": {
          "base_uri": "https://localhost:8080/"
        },
        "id": "r44HPcO80cgH",
        "outputId": "d745992e-485a-481a-9c8f-957d3c3267f2"
      },
      "execution_count": null,
      "outputs": [
        {
          "output_type": "stream",
          "name": "stdout",
          "text": [
            "Mounted at /content/drive\n"
          ]
        }
      ]
    },
    {
      "cell_type": "code",
      "execution_count": null,
      "metadata": {
        "id": "vGkLGMxkcbMf"
      },
      "outputs": [],
      "source": [
        "# For data management\n",
        "import pandas as pd\n",
        "import numpy as np\n",
        "import pickle\n",
        "\n",
        "from sklearn import svm\n",
        "from sklearn import metrics\n",
        "\n",
        "from sklearn.model_selection import train_test_split\n",
        "\n",
        "# For plotting\n",
        "import matplotlib.pyplot as plt\n",
        "%matplotlib inline \n",
        "\n",
        "from sklearn.metrics import confusion_matrix\n",
        "import seaborn as sns\n",
        "from sklearn.metrics import accuracy_score"
      ]
    },
    {
      "cell_type": "code",
      "source": [
        "# %cd /content/drive/MyDrive/Face-Mask-Dataset/\n",
        "\n",
        "%cd /content/drive/MyDrive/data-face-mask/Face-Mask-Dataset"
      ],
      "metadata": {
        "colab": {
          "base_uri": "https://localhost:8080/"
        },
        "id": "BqXjCEGu0aYp",
        "outputId": "c3fd0df4-3bdd-46b4-d7c5-b1b774095e56"
      },
      "execution_count": null,
      "outputs": [
        {
          "output_type": "stream",
          "name": "stdout",
          "text": [
            "/content/drive/MyDrive/data-face-mask/Face-Mask-Dataset\n"
          ]
        }
      ]
    },
    {
      "cell_type": "code",
      "execution_count": null,
      "metadata": {
        "id": "OtVWCMKEcbMi"
      },
      "outputs": [],
      "source": [
        "pickle_in = open(\"X_test_bias.pickle\", \"rb\")\n",
        "X_test_bias = pickle.load(pickle_in)\n",
        "pickle_in = open(\"y_test_bias.pickle\", \"rb\")\n",
        "y_test_bias = pickle.load(pickle_in)"
      ]
    },
    {
      "cell_type": "code",
      "execution_count": null,
      "metadata": {
        "id": "QuCvsyrxcbMk"
      },
      "outputs": [],
      "source": [
        "#load models\n",
        "pickle_in = open(\"SVM_50.pickle\", \"rb\")\n",
        "model_50 = pickle.load(pickle_in)"
      ]
    },
    {
      "cell_type": "markdown",
      "metadata": {
        "id": "SS7i9fJScbMl"
      },
      "source": [
        "# TEST BIAS"
      ]
    },
    {
      "cell_type": "markdown",
      "metadata": {
        "id": "Xv0tQ6tkcbMo"
      },
      "source": [
        "## Model trained with 50% dataset"
      ]
    },
    {
      "cell_type": "code",
      "source": [
        "# xử lý đầu vào cho model SVM\n",
        "nsamples, nx, ny = X_test_bias.shape\n",
        "X_test_bias = X_test_bias.reshape((nsamples,nx*ny))"
      ],
      "metadata": {
        "id": "k4ESvYT_DmOH"
      },
      "execution_count": null,
      "outputs": []
    },
    {
      "cell_type": "code",
      "execution_count": null,
      "metadata": {
        "id": "xEmmbgaYcbMq"
      },
      "outputs": [],
      "source": [
        "y_pred = model_50.predict(X_test_bias)\n",
        "accuracy = model_50.score(X_test_bias, y_test_bias)"
      ]
    },
    {
      "cell_type": "code",
      "execution_count": null,
      "metadata": {
        "id": "MisyJkadcbMr",
        "outputId": "bd6ca679-c4ee-4d34-c579-acb2297c2b8a",
        "colab": {
          "base_uri": "https://localhost:8080/"
        }
      },
      "outputs": [
        {
          "output_type": "stream",
          "name": "stdout",
          "text": [
            "              precision    recall  f1-score   support\n",
            "\n",
            "           0       0.44      0.03      0.05       152\n",
            "           1       0.29      0.32      0.31       144\n",
            "           2       0.45      0.73      0.56       213\n",
            "\n",
            "    accuracy                           0.40       509\n",
            "   macro avg       0.40      0.36      0.31       509\n",
            "weighted avg       0.41      0.40      0.34       509\n",
            "\n"
          ]
        }
      ],
      "source": [
        "print(metrics.classification_report(y_test_bias, y_pred))"
      ]
    },
    {
      "cell_type": "code",
      "execution_count": null,
      "metadata": {
        "id": "rd68UrnecbMt",
        "outputId": "abe21af7-64bc-4b0c-f15f-c1ccfb98e1af",
        "colab": {
          "base_uri": "https://localhost:8080/",
          "height": 544
        }
      },
      "outputs": [
        {
          "output_type": "execute_result",
          "data": {
            "text/plain": [
              "Text(0.5, 1.0, 'Accuracy Score: 0.40471512770137524')"
            ]
          },
          "metadata": {},
          "execution_count": 10
        },
        {
          "output_type": "display_data",
          "data": {
            "image/png": "[encoded data removed]",
            "text/plain": [
              "<Figure size 648x648 with 2 Axes>"
            ]
          },
          "metadata": {
            "needs_background": "light"
          }
        }
      ],
      "source": [
        "cm = confusion_matrix(y_test_bias, y_pred)\n",
        "\n",
        "plt.figure(figsize=(9,9))\n",
        "# Heatmap visualization of accuracy\n",
        "sns.heatmap(cm,annot=True, fmt='.3f', linewidths=.5, square=True,cmap='Reds_r')\n",
        "plt.ylabel('Actual label')\n",
        "plt.xlabel('Predicted label')\n",
        "all_sample_title = 'Accuracy Score: {0}'.format(accuracy_score(y_true=y_test_bias, y_pred=y_pred))\n",
        "plt.title(all_sample_title,size=15)"
      ]
    }
  ],
  "metadata": {
    "kernelspec": {
      "display_name": "Python 3",
      "language": "python",
      "name": "python3"
    },
    "language_info": {
      "codemirror_mode": {
        "name": "ipython",
        "version": 3
      },
      "file_extension": ".py",
      "mimetype": "text/x-python",
      "name": "python",
      "nbconvert_exporter": "python",
      "pygments_lexer": "ipython3",
      "version": "3.7.9"
    },
    "colab": {
      "name": "SVM_bais_test.ipynb",
      "provenance": [],
      "collapsed_sections": [],
      "toc_visible": true
    }
  },
  "nbformat": 4,
  "nbformat_minor": 0
}