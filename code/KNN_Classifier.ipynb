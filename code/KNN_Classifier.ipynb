{
  "cells": [
    {
      "cell_type": "markdown",
      "metadata": {
        "id": "lSMnI71n4Wlk"
      },
      "source": [
        "# KNN Classifier (Mask, No Mask, Incorrect Mask)"
      ]
    },
    {
      "cell_type": "markdown",
      "metadata": {
        "id": "5ZVTL9-k4Wls"
      },
      "source": [
        "## Imports"
      ]
    },
    {
      "cell_type": "code",
      "execution_count": null,
      "metadata": {
        "colab": {
          "base_uri": "https://localhost:8080/"
        },
        "id": "Bk1M0xjncHR9",
        "outputId": "038396e8-35f9-4fb0-a7e5-f2928d71a73b"
      },
      "outputs": [
        {
          "output_type": "stream",
          "name": "stdout",
          "text": [
            "Drive already mounted at /content/drive; to attempt to forcibly remount, call drive.mount(\"/content/drive\", force_remount=True).\n"
          ]
        }
      ],
      "source": [
        "from google.colab import drive\n",
        "drive.mount('/content/drive')"
      ]
    },
    {
      "cell_type": "code",
      "execution_count": null,
      "metadata": {
        "id": "s-fadmXw4Wlt"
      },
      "outputs": [],
      "source": [
        "# import packages\n",
        "from sklearn.metrics import accuracy_score, confusion_matrix, precision_score, recall_score, f1_score, classification_report\n",
        "from sklearn.neighbors import KNeighborsClassifier\n",
        "from sklearn.model_selection import train_test_split, cross_val_score, GridSearchCV, RandomizedSearchCV\n",
        "from sklearn.decomposition import PCA # Dimensionality Reduction\n",
        "\n",
        "import seaborn as sns # for confusion matrix\n",
        "import pandas as pd\n",
        "import numpy as np\n",
        "import matplotlib.pyplot as plt # to plot inage, graph\n",
        "\n",
        "import pickle\n",
        "import time # for computation time assessment\n",
        "%matplotlib inline"
      ]
    },
    {
      "cell_type": "markdown",
      "metadata": {
        "id": "NmCtK60j4Wlx"
      },
      "source": [
        "## Prepare Dataset"
      ]
    },
    {
      "cell_type": "code",
      "execution_count": null,
      "metadata": {
        "colab": {
          "base_uri": "https://localhost:8080/"
        },
        "id": "2CWsxhATdnLi",
        "outputId": "68662a7c-a5bd-48a8-992e-dd5f58bb5531"
      },
      "outputs": [
        {
          "output_type": "stream",
          "name": "stdout",
          "text": [
            "/content/drive/MyDrive/data-face-mask/Face-Mask-Dataset\n"
          ]
        }
      ],
      "source": [
        "# %cd /content/drive/MyDrive/Face-Mask-Dataset\n",
        "\n",
        "%cd /content/drive/MyDrive/data-face-mask/Face-Mask-Dataset"
      ]
    },
    {
      "cell_type": "markdown",
      "metadata": {
        "id": "LqgZAglh4Wly"
      },
      "source": [
        "### Pickle Dataset"
      ]
    },
    {
      "cell_type": "code",
      "execution_count": null,
      "metadata": {
        "id": "S7KIPj4w4Wl0"
      },
      "outputs": [],
      "source": [
        "pickle_in = open(\"X.pickle\", \"rb\")\n",
        "X = pickle.load(pickle_in)\n",
        "\n",
        "pickle_in = open(\"y.pickle\", \"rb\")\n",
        "y = pickle.load(pickle_in)\n",
        "\n",
        "pickle_in = open(\"data.pickle\", \"rb\")\n",
        "data = pickle.load(pickle_in) # Data Matrix will serve as X"
      ]
    },
    {
      "cell_type": "markdown",
      "metadata": {
        "id": "CRHzr7hZ4Wl1"
      },
      "source": [
        "### Dataset Classification Distribution"
      ]
    },
    {
      "cell_type": "code",
      "execution_count": null,
      "metadata": {
        "colab": {
          "base_uri": "https://localhost:8080/"
        },
        "id": "26aHynnu4Wl2",
        "outputId": "b3e926da-1a99-4d41-a0d9-fb838227ad90"
      },
      "outputs": [
        {
          "output_type": "stream",
          "name": "stdout",
          "text": [
            "# of Samples: 17836\n",
            "# of Without A Mask: 5909\n",
            "# of Incorrectly Worn Mask: 6044\n",
            "# of With A Mask: 5883\n"
          ]
        }
      ],
      "source": [
        "# CLASS 0: NO MASK\n",
        "# CLASS 1: INCORRECT WEAR OF MASK\n",
        "# CLASS 2: CORRECT WEAR OF MASK\n",
        "\n",
        "print('# of Samples:', len(y))\n",
        "print('# of Without A Mask:', (y == 0).sum())\n",
        "print('# of Incorrectly Worn Mask:', (y == 1).sum())\n",
        "print('# of With A Mask:', (y == 2).sum())"
      ]
    },
    {
      "cell_type": "markdown",
      "metadata": {
        "id": "jYcYVQfV4Wl4"
      },
      "source": [
        "### Convert Numpy to Dataframe"
      ]
    },
    {
      "cell_type": "code",
      "execution_count": null,
      "metadata": {
        "colab": {
          "base_uri": "https://localhost:8080/"
        },
        "id": "IkaAe-dt4Wl5",
        "outputId": "2ff2864c-e167-421a-f9d5-3825340ca3c6"
      },
      "outputs": [
        {
          "output_type": "stream",
          "name": "stdout",
          "text": [
            "    P0   P1   P2   P3   P4   P5   P6  ... P4089 P4090 P4091 P4092 P4093 P4094 P4095\n",
            "0  147  148  147  146  146  146  145  ...   158   162   147   151   138   155   154\n",
            "1  244  215  196  173  139  141  132  ...   181   165   160   168   164   159   146\n",
            "2   90   93   90   93   85   80   75  ...    93    99   136    86    35    29    34\n",
            "3   79   79   81   82   81   86   85  ...   245   240   241   240   237   232   227\n",
            "4  128  115  107  137  101   88   79  ...    82    71    66    78    79    96    74\n",
            "\n",
            "[5 rows x 4096 columns]\n",
            "   Mask_Target\n",
            "0            0\n",
            "1            0\n",
            "2            0\n",
            "3            0\n",
            "4            0\n"
          ]
        }
      ],
      "source": [
        "# Get Column Names\n",
        "cols = []\n",
        "for i in range(0, len(data[0])):\n",
        "    cols.append(\"P\" + str(i))\n",
        "\n",
        "# Convert to Dataframe\n",
        "numpy_data = data\n",
        "X = pd.DataFrame(data=numpy_data, columns=[cols])\n",
        "print(X.head())\n",
        "\n",
        "y = pd.DataFrame(data=y, columns=[\"Mask_Target\"])\n",
        "print(y.head())"
      ]
    },
    {
      "cell_type": "markdown",
      "metadata": {
        "id": "U9JuR7wn4Wl6"
      },
      "source": [
        "### Data Shape"
      ]
    },
    {
      "cell_type": "code",
      "execution_count": null,
      "metadata": {
        "colab": {
          "base_uri": "https://localhost:8080/"
        },
        "id": "UKhuhRWY4Wl7",
        "outputId": "0cee4e95-9e54-4072-b72e-ea49c1cf1190"
      },
      "outputs": [
        {
          "output_type": "stream",
          "name": "stdout",
          "text": [
            "\n",
            "Image Data Shape: (17836, 4096)\n",
            "Image Data Shape Features: (17836, 4096)\n",
            "Image Data Shape Target: (17836, 1)\n"
          ]
        }
      ],
      "source": [
        "# Shape\n",
        "print('\\nImage Data Shape:', X.shape)\n",
        "print('Image Data Shape Features:', data.shape)\n",
        "print('Image Data Shape Target:', y.shape)"
      ]
    },
    {
      "cell_type": "markdown",
      "metadata": {
        "id": "dvkdPzEG4Wl7"
      },
      "source": [
        "### Normalize the Data"
      ]
    },
    {
      "cell_type": "code",
      "execution_count": null,
      "metadata": {
        "id": "6-rcSM4X4Wl8"
      },
      "outputs": [],
      "source": [
        "# Normalize the pixel values\n",
        "X = X / 255.0"
      ]
    },
    {
      "cell_type": "code",
      "source": [
        "X"
      ],
      "metadata": {
        "colab": {
          "base_uri": "https://localhost:8080/",
          "height": 505
        },
        "id": "cocU5egw45ou",
        "outputId": "3d4c7a88-7336-4b60-aa84-d036477c224a"
      },
      "execution_count": null,
      "outputs": [
        {
          "output_type": "execute_result",
          "data": {
            "text/html": [
              "\n",
              "  <div id=\"df-4736d478-0b42-41bb-a793-022c00235b82\">\n",
              "    <div class=\"colab-df-container\">\n",
              "      <div>\n",
              "<style scoped>\n",
              "    .dataframe tbody tr th:only-of-type {\n",
              "        vertical-align: middle;\n",
              "    }\n",
              "\n",
              "    .dataframe tbody tr th {\n",
              "        vertical-align: top;\n",
              "    }\n",
              "\n",
              "    .dataframe thead tr th {\n",
              "        text-align: left;\n",
              "    }\n",
              "</style>\n",
              "<table border=\"1\" class=\"dataframe\">\n",
              "  <thead>\n",
              "    <tr>\n",
              "      <th></th>\n",
              "      <th>P0</th>\n",
              "      <th>P1</th>\n",
              "      <th>P2</th>\n",
              "      <th>P3</th>\n",
              "      <th>P4</th>\n",
              "      <th>P5</th>\n",
              "      <th>P6</th>\n",
              "      <th>P7</th>\n",
              "      <th>P8</th>\n",
              "      <th>P9</th>\n",
              "      <th>P10</th>\n",
              "      <th>P11</th>\n",
              "      <th>P12</th>\n",
              "      <th>P13</th>\n",
              "      <th>P14</th>\n",
              "      <th>P15</th>\n",
              "      <th>P16</th>\n",
              "      <th>P17</th>\n",
              "      <th>P18</th>\n",
              "      <th>P19</th>\n",
              "      <th>P20</th>\n",
              "      <th>P21</th>\n",
              "      <th>P22</th>\n",
              "      <th>P23</th>\n",
              "      <th>P24</th>\n",
              "      <th>P25</th>\n",
              "      <th>P26</th>\n",
              "      <th>P27</th>\n",
              "      <th>P28</th>\n",
              "      <th>P29</th>\n",
              "      <th>P30</th>\n",
              "      <th>P31</th>\n",
              "      <th>P32</th>\n",
              "      <th>P33</th>\n",
              "      <th>P34</th>\n",
              "      <th>P35</th>\n",
              "      <th>P36</th>\n",
              "      <th>P37</th>\n",
              "      <th>P38</th>\n",
              "      <th>P39</th>\n",
              "      <th>...</th>\n",
              "      <th>P4056</th>\n",
              "      <th>P4057</th>\n",
              "      <th>P4058</th>\n",
              "      <th>P4059</th>\n",
              "      <th>P4060</th>\n",
              "      <th>P4061</th>\n",
              "      <th>P4062</th>\n",
              "      <th>P4063</th>\n",
              "      <th>P4064</th>\n",
              "      <th>P4065</th>\n",
              "      <th>P4066</th>\n",
              "      <th>P4067</th>\n",
              "      <th>P4068</th>\n",
              "      <th>P4069</th>\n",
              "      <th>P4070</th>\n",
              "      <th>P4071</th>\n",
              "      <th>P4072</th>\n",
              "      <th>P4073</th>\n",
              "      <th>P4074</th>\n",
              "      <th>P4075</th>\n",
              "      <th>P4076</th>\n",
              "      <th>P4077</th>\n",
              "      <th>P4078</th>\n",
              "      <th>P4079</th>\n",
              "      <th>P4080</th>\n",
              "      <th>P4081</th>\n",
              "      <th>P4082</th>\n",
              "      <th>P4083</th>\n",
              "      <th>P4084</th>\n",
              "      <th>P4085</th>\n",
              "      <th>P4086</th>\n",
              "      <th>P4087</th>\n",
              "      <th>P4088</th>\n",
              "      <th>P4089</th>\n",
              "      <th>P4090</th>\n",
              "      <th>P4091</th>\n",
              "      <th>P4092</th>\n",
              "      <th>P4093</th>\n",
              "      <th>P4094</th>\n",
              "      <th>P4095</th>\n",
              "    </tr>\n",
              "  </thead>\n",
              "  <tbody>\n",
              "    <tr>\n",
              "      <th>0</th>\n",
              "      <td>0.576471</td>\n",
              "      <td>0.580392</td>\n",
              "      <td>0.576471</td>\n",
              "      <td>0.572549</td>\n",
              "      <td>0.572549</td>\n",
              "      <td>0.572549</td>\n",
              "      <td>0.568627</td>\n",
              "      <td>0.568627</td>\n",
              "      <td>0.564706</td>\n",
              "      <td>0.556863</td>\n",
              "      <td>0.564706</td>\n",
              "      <td>0.552941</td>\n",
              "      <td>0.541176</td>\n",
              "      <td>0.556863</td>\n",
              "      <td>0.505882</td>\n",
              "      <td>0.407843</td>\n",
              "      <td>0.298039</td>\n",
              "      <td>0.290196</td>\n",
              "      <td>0.301961</td>\n",
              "      <td>0.298039</td>\n",
              "      <td>0.423529</td>\n",
              "      <td>0.490196</td>\n",
              "      <td>0.474510</td>\n",
              "      <td>0.494118</td>\n",
              "      <td>0.447059</td>\n",
              "      <td>0.447059</td>\n",
              "      <td>0.494118</td>\n",
              "      <td>0.380392</td>\n",
              "      <td>0.309804</td>\n",
              "      <td>0.313725</td>\n",
              "      <td>0.266667</td>\n",
              "      <td>0.247059</td>\n",
              "      <td>0.203922</td>\n",
              "      <td>0.239216</td>\n",
              "      <td>0.282353</td>\n",
              "      <td>0.317647</td>\n",
              "      <td>0.341176</td>\n",
              "      <td>0.447059</td>\n",
              "      <td>0.541176</td>\n",
              "      <td>0.537255</td>\n",
              "      <td>...</td>\n",
              "      <td>0.211765</td>\n",
              "      <td>0.298039</td>\n",
              "      <td>0.349020</td>\n",
              "      <td>0.454902</td>\n",
              "      <td>0.482353</td>\n",
              "      <td>0.494118</td>\n",
              "      <td>0.501961</td>\n",
              "      <td>0.525490</td>\n",
              "      <td>0.521569</td>\n",
              "      <td>0.537255</td>\n",
              "      <td>0.533333</td>\n",
              "      <td>0.474510</td>\n",
              "      <td>0.466667</td>\n",
              "      <td>0.368627</td>\n",
              "      <td>0.278431</td>\n",
              "      <td>0.227451</td>\n",
              "      <td>0.211765</td>\n",
              "      <td>0.443137</td>\n",
              "      <td>0.541176</td>\n",
              "      <td>0.600000</td>\n",
              "      <td>0.600000</td>\n",
              "      <td>0.631373</td>\n",
              "      <td>0.603922</td>\n",
              "      <td>0.619608</td>\n",
              "      <td>0.588235</td>\n",
              "      <td>0.560784</td>\n",
              "      <td>0.549020</td>\n",
              "      <td>0.498039</td>\n",
              "      <td>0.435294</td>\n",
              "      <td>0.341176</td>\n",
              "      <td>0.419608</td>\n",
              "      <td>0.549020</td>\n",
              "      <td>0.600000</td>\n",
              "      <td>0.619608</td>\n",
              "      <td>0.635294</td>\n",
              "      <td>0.576471</td>\n",
              "      <td>0.592157</td>\n",
              "      <td>0.541176</td>\n",
              "      <td>0.607843</td>\n",
              "      <td>0.603922</td>\n",
              "    </tr>\n",
              "    <tr>\n",
              "      <th>1</th>\n",
              "      <td>0.956863</td>\n",
              "      <td>0.843137</td>\n",
              "      <td>0.768627</td>\n",
              "      <td>0.678431</td>\n",
              "      <td>0.545098</td>\n",
              "      <td>0.552941</td>\n",
              "      <td>0.517647</td>\n",
              "      <td>0.611765</td>\n",
              "      <td>0.635294</td>\n",
              "      <td>0.698039</td>\n",
              "      <td>0.709804</td>\n",
              "      <td>0.686275</td>\n",
              "      <td>0.760784</td>\n",
              "      <td>0.831373</td>\n",
              "      <td>0.772549</td>\n",
              "      <td>0.752941</td>\n",
              "      <td>0.760784</td>\n",
              "      <td>0.764706</td>\n",
              "      <td>0.607843</td>\n",
              "      <td>0.388235</td>\n",
              "      <td>0.435294</td>\n",
              "      <td>0.596078</td>\n",
              "      <td>0.701961</td>\n",
              "      <td>0.713725</td>\n",
              "      <td>0.674510</td>\n",
              "      <td>0.807843</td>\n",
              "      <td>0.866667</td>\n",
              "      <td>0.894118</td>\n",
              "      <td>0.725490</td>\n",
              "      <td>0.756863</td>\n",
              "      <td>0.850980</td>\n",
              "      <td>0.741176</td>\n",
              "      <td>0.807843</td>\n",
              "      <td>0.835294</td>\n",
              "      <td>0.890196</td>\n",
              "      <td>0.886275</td>\n",
              "      <td>0.894118</td>\n",
              "      <td>0.913725</td>\n",
              "      <td>0.898039</td>\n",
              "      <td>0.850980</td>\n",
              "      <td>...</td>\n",
              "      <td>0.941176</td>\n",
              "      <td>0.933333</td>\n",
              "      <td>0.898039</td>\n",
              "      <td>0.894118</td>\n",
              "      <td>0.749020</td>\n",
              "      <td>0.701961</td>\n",
              "      <td>0.717647</td>\n",
              "      <td>0.756863</td>\n",
              "      <td>0.752941</td>\n",
              "      <td>0.737255</td>\n",
              "      <td>0.737255</td>\n",
              "      <td>0.741176</td>\n",
              "      <td>0.752941</td>\n",
              "      <td>0.733333</td>\n",
              "      <td>0.737255</td>\n",
              "      <td>0.709804</td>\n",
              "      <td>0.600000</td>\n",
              "      <td>0.450980</td>\n",
              "      <td>0.337255</td>\n",
              "      <td>0.372549</td>\n",
              "      <td>0.368627</td>\n",
              "      <td>0.368627</td>\n",
              "      <td>0.396078</td>\n",
              "      <td>0.427451</td>\n",
              "      <td>0.423529</td>\n",
              "      <td>0.388235</td>\n",
              "      <td>0.356863</td>\n",
              "      <td>0.282353</td>\n",
              "      <td>0.211765</td>\n",
              "      <td>0.572549</td>\n",
              "      <td>0.596078</td>\n",
              "      <td>0.698039</td>\n",
              "      <td>0.611765</td>\n",
              "      <td>0.709804</td>\n",
              "      <td>0.647059</td>\n",
              "      <td>0.627451</td>\n",
              "      <td>0.658824</td>\n",
              "      <td>0.643137</td>\n",
              "      <td>0.623529</td>\n",
              "      <td>0.572549</td>\n",
              "    </tr>\n",
              "    <tr>\n",
              "      <th>2</th>\n",
              "      <td>0.352941</td>\n",
              "      <td>0.364706</td>\n",
              "      <td>0.352941</td>\n",
              "      <td>0.364706</td>\n",
              "      <td>0.333333</td>\n",
              "      <td>0.313725</td>\n",
              "      <td>0.294118</td>\n",
              "      <td>0.286275</td>\n",
              "      <td>0.231373</td>\n",
              "      <td>0.196078</td>\n",
              "      <td>0.254902</td>\n",
              "      <td>0.384314</td>\n",
              "      <td>0.431373</td>\n",
              "      <td>0.470588</td>\n",
              "      <td>0.482353</td>\n",
              "      <td>0.494118</td>\n",
              "      <td>0.521569</td>\n",
              "      <td>0.529412</td>\n",
              "      <td>0.568627</td>\n",
              "      <td>0.584314</td>\n",
              "      <td>0.584314</td>\n",
              "      <td>0.611765</td>\n",
              "      <td>0.619608</td>\n",
              "      <td>0.635294</td>\n",
              "      <td>0.631373</td>\n",
              "      <td>0.635294</td>\n",
              "      <td>0.666667</td>\n",
              "      <td>0.650980</td>\n",
              "      <td>0.666667</td>\n",
              "      <td>0.682353</td>\n",
              "      <td>0.662745</td>\n",
              "      <td>0.654902</td>\n",
              "      <td>0.647059</td>\n",
              "      <td>0.639216</td>\n",
              "      <td>0.635294</td>\n",
              "      <td>0.639216</td>\n",
              "      <td>0.650980</td>\n",
              "      <td>0.650980</td>\n",
              "      <td>0.643137</td>\n",
              "      <td>0.631373</td>\n",
              "      <td>...</td>\n",
              "      <td>0.501961</td>\n",
              "      <td>0.517647</td>\n",
              "      <td>0.501961</td>\n",
              "      <td>0.541176</td>\n",
              "      <td>0.603922</td>\n",
              "      <td>0.643137</td>\n",
              "      <td>0.635294</td>\n",
              "      <td>0.596078</td>\n",
              "      <td>0.568627</td>\n",
              "      <td>0.552941</td>\n",
              "      <td>0.600000</td>\n",
              "      <td>0.650980</td>\n",
              "      <td>0.662745</td>\n",
              "      <td>0.643137</td>\n",
              "      <td>0.607843</td>\n",
              "      <td>0.549020</td>\n",
              "      <td>0.486275</td>\n",
              "      <td>0.435294</td>\n",
              "      <td>0.317647</td>\n",
              "      <td>0.313725</td>\n",
              "      <td>0.376471</td>\n",
              "      <td>0.427451</td>\n",
              "      <td>0.435294</td>\n",
              "      <td>0.380392</td>\n",
              "      <td>0.368627</td>\n",
              "      <td>0.403922</td>\n",
              "      <td>0.403922</td>\n",
              "      <td>0.403922</td>\n",
              "      <td>0.486275</td>\n",
              "      <td>0.411765</td>\n",
              "      <td>0.400000</td>\n",
              "      <td>0.486275</td>\n",
              "      <td>0.427451</td>\n",
              "      <td>0.364706</td>\n",
              "      <td>0.388235</td>\n",
              "      <td>0.533333</td>\n",
              "      <td>0.337255</td>\n",
              "      <td>0.137255</td>\n",
              "      <td>0.113725</td>\n",
              "      <td>0.133333</td>\n",
              "    </tr>\n",
              "    <tr>\n",
              "      <th>3</th>\n",
              "      <td>0.309804</td>\n",
              "      <td>0.309804</td>\n",
              "      <td>0.317647</td>\n",
              "      <td>0.321569</td>\n",
              "      <td>0.317647</td>\n",
              "      <td>0.337255</td>\n",
              "      <td>0.333333</td>\n",
              "      <td>0.235294</td>\n",
              "      <td>0.184314</td>\n",
              "      <td>0.117647</td>\n",
              "      <td>0.141176</td>\n",
              "      <td>0.270588</td>\n",
              "      <td>0.376471</td>\n",
              "      <td>0.450980</td>\n",
              "      <td>0.580392</td>\n",
              "      <td>0.658824</td>\n",
              "      <td>0.741176</td>\n",
              "      <td>0.772549</td>\n",
              "      <td>0.784314</td>\n",
              "      <td>0.792157</td>\n",
              "      <td>0.811765</td>\n",
              "      <td>0.847059</td>\n",
              "      <td>0.870588</td>\n",
              "      <td>0.858824</td>\n",
              "      <td>0.866667</td>\n",
              "      <td>0.870588</td>\n",
              "      <td>0.862745</td>\n",
              "      <td>0.870588</td>\n",
              "      <td>0.870588</td>\n",
              "      <td>0.854902</td>\n",
              "      <td>0.854902</td>\n",
              "      <td>0.858824</td>\n",
              "      <td>0.835294</td>\n",
              "      <td>0.835294</td>\n",
              "      <td>0.839216</td>\n",
              "      <td>0.835294</td>\n",
              "      <td>0.819608</td>\n",
              "      <td>0.819608</td>\n",
              "      <td>0.835294</td>\n",
              "      <td>0.835294</td>\n",
              "      <td>...</td>\n",
              "      <td>0.380392</td>\n",
              "      <td>0.372549</td>\n",
              "      <td>0.368627</td>\n",
              "      <td>0.376471</td>\n",
              "      <td>0.400000</td>\n",
              "      <td>0.403922</td>\n",
              "      <td>0.411765</td>\n",
              "      <td>0.423529</td>\n",
              "      <td>0.447059</td>\n",
              "      <td>0.466667</td>\n",
              "      <td>0.482353</td>\n",
              "      <td>0.501961</td>\n",
              "      <td>0.549020</td>\n",
              "      <td>0.513725</td>\n",
              "      <td>0.243137</td>\n",
              "      <td>0.023529</td>\n",
              "      <td>0.007843</td>\n",
              "      <td>0.007843</td>\n",
              "      <td>0.007843</td>\n",
              "      <td>0.007843</td>\n",
              "      <td>0.007843</td>\n",
              "      <td>0.003922</td>\n",
              "      <td>0.003922</td>\n",
              "      <td>0.023529</td>\n",
              "      <td>0.086275</td>\n",
              "      <td>0.113725</td>\n",
              "      <td>0.070588</td>\n",
              "      <td>0.098039</td>\n",
              "      <td>0.164706</td>\n",
              "      <td>0.145098</td>\n",
              "      <td>0.141176</td>\n",
              "      <td>0.611765</td>\n",
              "      <td>0.929412</td>\n",
              "      <td>0.960784</td>\n",
              "      <td>0.941176</td>\n",
              "      <td>0.945098</td>\n",
              "      <td>0.941176</td>\n",
              "      <td>0.929412</td>\n",
              "      <td>0.909804</td>\n",
              "      <td>0.890196</td>\n",
              "    </tr>\n",
              "    <tr>\n",
              "      <th>4</th>\n",
              "      <td>0.501961</td>\n",
              "      <td>0.450980</td>\n",
              "      <td>0.419608</td>\n",
              "      <td>0.537255</td>\n",
              "      <td>0.396078</td>\n",
              "      <td>0.345098</td>\n",
              "      <td>0.309804</td>\n",
              "      <td>0.368627</td>\n",
              "      <td>0.376471</td>\n",
              "      <td>0.345098</td>\n",
              "      <td>0.403922</td>\n",
              "      <td>0.470588</td>\n",
              "      <td>0.478431</td>\n",
              "      <td>0.525490</td>\n",
              "      <td>0.596078</td>\n",
              "      <td>0.619608</td>\n",
              "      <td>0.670588</td>\n",
              "      <td>0.705882</td>\n",
              "      <td>0.682353</td>\n",
              "      <td>0.698039</td>\n",
              "      <td>0.713725</td>\n",
              "      <td>0.745098</td>\n",
              "      <td>0.745098</td>\n",
              "      <td>0.745098</td>\n",
              "      <td>0.741176</td>\n",
              "      <td>0.760784</td>\n",
              "      <td>0.752941</td>\n",
              "      <td>0.760784</td>\n",
              "      <td>0.760784</td>\n",
              "      <td>0.643137</td>\n",
              "      <td>0.603922</td>\n",
              "      <td>0.682353</td>\n",
              "      <td>0.658824</td>\n",
              "      <td>0.647059</td>\n",
              "      <td>0.682353</td>\n",
              "      <td>0.682353</td>\n",
              "      <td>0.674510</td>\n",
              "      <td>0.654902</td>\n",
              "      <td>0.662745</td>\n",
              "      <td>0.666667</td>\n",
              "      <td>...</td>\n",
              "      <td>0.658824</td>\n",
              "      <td>0.682353</td>\n",
              "      <td>0.694118</td>\n",
              "      <td>0.686275</td>\n",
              "      <td>0.674510</td>\n",
              "      <td>0.690196</td>\n",
              "      <td>0.725490</td>\n",
              "      <td>0.749020</td>\n",
              "      <td>0.760784</td>\n",
              "      <td>0.745098</td>\n",
              "      <td>0.686275</td>\n",
              "      <td>0.694118</td>\n",
              "      <td>0.666667</td>\n",
              "      <td>0.631373</td>\n",
              "      <td>0.564706</td>\n",
              "      <td>0.517647</td>\n",
              "      <td>0.482353</td>\n",
              "      <td>0.309804</td>\n",
              "      <td>0.207843</td>\n",
              "      <td>0.066667</td>\n",
              "      <td>0.054902</td>\n",
              "      <td>0.066667</td>\n",
              "      <td>0.109804</td>\n",
              "      <td>0.105882</td>\n",
              "      <td>0.109804</td>\n",
              "      <td>0.121569</td>\n",
              "      <td>0.121569</td>\n",
              "      <td>0.219608</td>\n",
              "      <td>0.243137</td>\n",
              "      <td>0.298039</td>\n",
              "      <td>0.290196</td>\n",
              "      <td>0.305882</td>\n",
              "      <td>0.313725</td>\n",
              "      <td>0.321569</td>\n",
              "      <td>0.278431</td>\n",
              "      <td>0.258824</td>\n",
              "      <td>0.305882</td>\n",
              "      <td>0.309804</td>\n",
              "      <td>0.376471</td>\n",
              "      <td>0.290196</td>\n",
              "    </tr>\n",
              "    <tr>\n",
              "      <th>...</th>\n",
              "      <td>...</td>\n",
              "      <td>...</td>\n",
              "      <td>...</td>\n",
              "      <td>...</td>\n",
              "      <td>...</td>\n",
              "      <td>...</td>\n",
              "      <td>...</td>\n",
              "      <td>...</td>\n",
              "      <td>...</td>\n",
              "      <td>...</td>\n",
              "      <td>...</td>\n",
              "      <td>...</td>\n",
              "      <td>...</td>\n",
              "      <td>...</td>\n",
              "      <td>...</td>\n",
              "      <td>...</td>\n",
              "      <td>...</td>\n",
              "      <td>...</td>\n",
              "      <td>...</td>\n",
              "      <td>...</td>\n",
              "      <td>...</td>\n",
              "      <td>...</td>\n",
              "      <td>...</td>\n",
              "      <td>...</td>\n",
              "      <td>...</td>\n",
              "      <td>...</td>\n",
              "      <td>...</td>\n",
              "      <td>...</td>\n",
              "      <td>...</td>\n",
              "      <td>...</td>\n",
              "      <td>...</td>\n",
              "      <td>...</td>\n",
              "      <td>...</td>\n",
              "      <td>...</td>\n",
              "      <td>...</td>\n",
              "      <td>...</td>\n",
              "      <td>...</td>\n",
              "      <td>...</td>\n",
              "      <td>...</td>\n",
              "      <td>...</td>\n",
              "      <td>...</td>\n",
              "      <td>...</td>\n",
              "      <td>...</td>\n",
              "      <td>...</td>\n",
              "      <td>...</td>\n",
              "      <td>...</td>\n",
              "      <td>...</td>\n",
              "      <td>...</td>\n",
              "      <td>...</td>\n",
              "      <td>...</td>\n",
              "      <td>...</td>\n",
              "      <td>...</td>\n",
              "      <td>...</td>\n",
              "      <td>...</td>\n",
              "      <td>...</td>\n",
              "      <td>...</td>\n",
              "      <td>...</td>\n",
              "      <td>...</td>\n",
              "      <td>...</td>\n",
              "      <td>...</td>\n",
              "      <td>...</td>\n",
              "      <td>...</td>\n",
              "      <td>...</td>\n",
              "      <td>...</td>\n",
              "      <td>...</td>\n",
              "      <td>...</td>\n",
              "      <td>...</td>\n",
              "      <td>...</td>\n",
              "      <td>...</td>\n",
              "      <td>...</td>\n",
              "      <td>...</td>\n",
              "      <td>...</td>\n",
              "      <td>...</td>\n",
              "      <td>...</td>\n",
              "      <td>...</td>\n",
              "      <td>...</td>\n",
              "      <td>...</td>\n",
              "      <td>...</td>\n",
              "      <td>...</td>\n",
              "      <td>...</td>\n",
              "      <td>...</td>\n",
              "    </tr>\n",
              "    <tr>\n",
              "      <th>17831</th>\n",
              "      <td>0.815686</td>\n",
              "      <td>0.815686</td>\n",
              "      <td>0.819608</td>\n",
              "      <td>0.819608</td>\n",
              "      <td>0.823529</td>\n",
              "      <td>0.823529</td>\n",
              "      <td>0.827451</td>\n",
              "      <td>0.843137</td>\n",
              "      <td>0.811765</td>\n",
              "      <td>0.580392</td>\n",
              "      <td>0.207843</td>\n",
              "      <td>0.145098</td>\n",
              "      <td>0.066667</td>\n",
              "      <td>0.090196</td>\n",
              "      <td>0.090196</td>\n",
              "      <td>0.066667</td>\n",
              "      <td>0.062745</td>\n",
              "      <td>0.082353</td>\n",
              "      <td>0.078431</td>\n",
              "      <td>0.105882</td>\n",
              "      <td>0.125490</td>\n",
              "      <td>0.109804</td>\n",
              "      <td>0.098039</td>\n",
              "      <td>0.094118</td>\n",
              "      <td>0.098039</td>\n",
              "      <td>0.105882</td>\n",
              "      <td>0.121569</td>\n",
              "      <td>0.117647</td>\n",
              "      <td>0.109804</td>\n",
              "      <td>0.121569</td>\n",
              "      <td>0.117647</td>\n",
              "      <td>0.101961</td>\n",
              "      <td>0.098039</td>\n",
              "      <td>0.180392</td>\n",
              "      <td>0.239216</td>\n",
              "      <td>0.305882</td>\n",
              "      <td>0.286275</td>\n",
              "      <td>0.184314</td>\n",
              "      <td>0.129412</td>\n",
              "      <td>0.164706</td>\n",
              "      <td>...</td>\n",
              "      <td>0.384314</td>\n",
              "      <td>0.447059</td>\n",
              "      <td>0.462745</td>\n",
              "      <td>0.458824</td>\n",
              "      <td>0.474510</td>\n",
              "      <td>0.470588</td>\n",
              "      <td>0.450980</td>\n",
              "      <td>0.498039</td>\n",
              "      <td>0.423529</td>\n",
              "      <td>0.509804</td>\n",
              "      <td>0.686275</td>\n",
              "      <td>0.678431</td>\n",
              "      <td>0.854902</td>\n",
              "      <td>0.482353</td>\n",
              "      <td>0.521569</td>\n",
              "      <td>0.572549</td>\n",
              "      <td>0.627451</td>\n",
              "      <td>0.474510</td>\n",
              "      <td>0.360784</td>\n",
              "      <td>0.584314</td>\n",
              "      <td>0.596078</td>\n",
              "      <td>0.662745</td>\n",
              "      <td>0.486275</td>\n",
              "      <td>0.321569</td>\n",
              "      <td>0.584314</td>\n",
              "      <td>0.662745</td>\n",
              "      <td>0.631373</td>\n",
              "      <td>0.596078</td>\n",
              "      <td>0.615686</td>\n",
              "      <td>0.615686</td>\n",
              "      <td>0.619608</td>\n",
              "      <td>0.572549</td>\n",
              "      <td>0.466667</td>\n",
              "      <td>0.325490</td>\n",
              "      <td>0.192157</td>\n",
              "      <td>0.278431</td>\n",
              "      <td>0.301961</td>\n",
              "      <td>0.474510</td>\n",
              "      <td>0.654902</td>\n",
              "      <td>0.670588</td>\n",
              "    </tr>\n",
              "    <tr>\n",
              "      <th>17832</th>\n",
              "      <td>0.992157</td>\n",
              "      <td>0.996078</td>\n",
              "      <td>1.000000</td>\n",
              "      <td>1.000000</td>\n",
              "      <td>1.000000</td>\n",
              "      <td>1.000000</td>\n",
              "      <td>1.000000</td>\n",
              "      <td>1.000000</td>\n",
              "      <td>1.000000</td>\n",
              "      <td>1.000000</td>\n",
              "      <td>1.000000</td>\n",
              "      <td>1.000000</td>\n",
              "      <td>1.000000</td>\n",
              "      <td>1.000000</td>\n",
              "      <td>1.000000</td>\n",
              "      <td>1.000000</td>\n",
              "      <td>1.000000</td>\n",
              "      <td>0.988235</td>\n",
              "      <td>0.772549</td>\n",
              "      <td>0.282353</td>\n",
              "      <td>0.149020</td>\n",
              "      <td>0.043137</td>\n",
              "      <td>0.168627</td>\n",
              "      <td>0.109804</td>\n",
              "      <td>0.231373</td>\n",
              "      <td>0.109804</td>\n",
              "      <td>0.137255</td>\n",
              "      <td>0.176471</td>\n",
              "      <td>0.152941</td>\n",
              "      <td>0.125490</td>\n",
              "      <td>0.125490</td>\n",
              "      <td>0.109804</td>\n",
              "      <td>0.090196</td>\n",
              "      <td>0.133333</td>\n",
              "      <td>0.207843</td>\n",
              "      <td>0.184314</td>\n",
              "      <td>0.117647</td>\n",
              "      <td>0.094118</td>\n",
              "      <td>0.109804</td>\n",
              "      <td>0.070588</td>\n",
              "      <td>...</td>\n",
              "      <td>0.603922</td>\n",
              "      <td>0.627451</td>\n",
              "      <td>0.658824</td>\n",
              "      <td>0.705882</td>\n",
              "      <td>0.721569</td>\n",
              "      <td>0.737255</td>\n",
              "      <td>0.729412</td>\n",
              "      <td>0.682353</td>\n",
              "      <td>0.572549</td>\n",
              "      <td>0.505882</td>\n",
              "      <td>0.454902</td>\n",
              "      <td>0.458824</td>\n",
              "      <td>0.603922</td>\n",
              "      <td>0.631373</td>\n",
              "      <td>0.682353</td>\n",
              "      <td>0.709804</td>\n",
              "      <td>0.713725</td>\n",
              "      <td>0.737255</td>\n",
              "      <td>0.713725</td>\n",
              "      <td>0.713725</td>\n",
              "      <td>0.752941</td>\n",
              "      <td>0.733333</td>\n",
              "      <td>0.733333</td>\n",
              "      <td>0.745098</td>\n",
              "      <td>0.717647</td>\n",
              "      <td>0.694118</td>\n",
              "      <td>0.701961</td>\n",
              "      <td>0.686275</td>\n",
              "      <td>0.709804</td>\n",
              "      <td>0.690196</td>\n",
              "      <td>0.643137</td>\n",
              "      <td>0.721569</td>\n",
              "      <td>0.674510</td>\n",
              "      <td>0.505882</td>\n",
              "      <td>0.333333</td>\n",
              "      <td>0.247059</td>\n",
              "      <td>0.211765</td>\n",
              "      <td>0.196078</td>\n",
              "      <td>0.176471</td>\n",
              "      <td>0.172549</td>\n",
              "    </tr>\n",
              "    <tr>\n",
              "      <th>17833</th>\n",
              "      <td>0.717647</td>\n",
              "      <td>0.631373</td>\n",
              "      <td>0.376471</td>\n",
              "      <td>0.345098</td>\n",
              "      <td>0.384314</td>\n",
              "      <td>0.513725</td>\n",
              "      <td>0.560784</td>\n",
              "      <td>0.505882</td>\n",
              "      <td>0.533333</td>\n",
              "      <td>0.501961</td>\n",
              "      <td>0.458824</td>\n",
              "      <td>0.423529</td>\n",
              "      <td>0.403922</td>\n",
              "      <td>0.396078</td>\n",
              "      <td>0.407843</td>\n",
              "      <td>0.411765</td>\n",
              "      <td>0.407843</td>\n",
              "      <td>0.458824</td>\n",
              "      <td>0.521569</td>\n",
              "      <td>0.572549</td>\n",
              "      <td>0.600000</td>\n",
              "      <td>0.627451</td>\n",
              "      <td>0.650980</td>\n",
              "      <td>0.654902</td>\n",
              "      <td>0.639216</td>\n",
              "      <td>0.647059</td>\n",
              "      <td>0.650980</td>\n",
              "      <td>0.639216</td>\n",
              "      <td>0.615686</td>\n",
              "      <td>0.580392</td>\n",
              "      <td>0.549020</td>\n",
              "      <td>0.521569</td>\n",
              "      <td>0.494118</td>\n",
              "      <td>0.462745</td>\n",
              "      <td>0.415686</td>\n",
              "      <td>0.372549</td>\n",
              "      <td>0.345098</td>\n",
              "      <td>0.329412</td>\n",
              "      <td>0.317647</td>\n",
              "      <td>0.298039</td>\n",
              "      <td>...</td>\n",
              "      <td>0.631373</td>\n",
              "      <td>0.627451</td>\n",
              "      <td>0.623529</td>\n",
              "      <td>0.631373</td>\n",
              "      <td>0.631373</td>\n",
              "      <td>0.611765</td>\n",
              "      <td>0.580392</td>\n",
              "      <td>0.580392</td>\n",
              "      <td>0.533333</td>\n",
              "      <td>0.486275</td>\n",
              "      <td>0.545098</td>\n",
              "      <td>0.572549</td>\n",
              "      <td>0.568627</td>\n",
              "      <td>0.619608</td>\n",
              "      <td>0.666667</td>\n",
              "      <td>0.596078</td>\n",
              "      <td>0.458824</td>\n",
              "      <td>0.419608</td>\n",
              "      <td>0.450980</td>\n",
              "      <td>0.368627</td>\n",
              "      <td>0.247059</td>\n",
              "      <td>0.196078</td>\n",
              "      <td>0.160784</td>\n",
              "      <td>0.145098</td>\n",
              "      <td>0.149020</td>\n",
              "      <td>0.156863</td>\n",
              "      <td>0.164706</td>\n",
              "      <td>0.172549</td>\n",
              "      <td>0.180392</td>\n",
              "      <td>0.188235</td>\n",
              "      <td>0.188235</td>\n",
              "      <td>0.219608</td>\n",
              "      <td>0.227451</td>\n",
              "      <td>0.207843</td>\n",
              "      <td>0.223529</td>\n",
              "      <td>0.156863</td>\n",
              "      <td>0.098039</td>\n",
              "      <td>0.674510</td>\n",
              "      <td>0.909804</td>\n",
              "      <td>0.933333</td>\n",
              "    </tr>\n",
              "    <tr>\n",
              "      <th>17834</th>\n",
              "      <td>0.862745</td>\n",
              "      <td>0.733333</td>\n",
              "      <td>0.462745</td>\n",
              "      <td>0.266667</td>\n",
              "      <td>0.192157</td>\n",
              "      <td>0.164706</td>\n",
              "      <td>0.239216</td>\n",
              "      <td>0.290196</td>\n",
              "      <td>0.294118</td>\n",
              "      <td>0.290196</td>\n",
              "      <td>0.250980</td>\n",
              "      <td>0.219608</td>\n",
              "      <td>0.215686</td>\n",
              "      <td>0.211765</td>\n",
              "      <td>0.215686</td>\n",
              "      <td>0.223529</td>\n",
              "      <td>0.188235</td>\n",
              "      <td>0.152941</td>\n",
              "      <td>0.141176</td>\n",
              "      <td>0.125490</td>\n",
              "      <td>0.145098</td>\n",
              "      <td>0.172549</td>\n",
              "      <td>0.184314</td>\n",
              "      <td>0.196078</td>\n",
              "      <td>0.188235</td>\n",
              "      <td>0.168627</td>\n",
              "      <td>0.160784</td>\n",
              "      <td>0.160784</td>\n",
              "      <td>0.172549</td>\n",
              "      <td>0.188235</td>\n",
              "      <td>0.211765</td>\n",
              "      <td>0.239216</td>\n",
              "      <td>0.250980</td>\n",
              "      <td>0.247059</td>\n",
              "      <td>0.250980</td>\n",
              "      <td>0.258824</td>\n",
              "      <td>0.266667</td>\n",
              "      <td>0.270588</td>\n",
              "      <td>0.274510</td>\n",
              "      <td>0.262745</td>\n",
              "      <td>...</td>\n",
              "      <td>0.301961</td>\n",
              "      <td>0.447059</td>\n",
              "      <td>0.560784</td>\n",
              "      <td>0.658824</td>\n",
              "      <td>0.709804</td>\n",
              "      <td>0.725490</td>\n",
              "      <td>0.709804</td>\n",
              "      <td>0.662745</td>\n",
              "      <td>0.647059</td>\n",
              "      <td>0.662745</td>\n",
              "      <td>0.678431</td>\n",
              "      <td>0.698039</td>\n",
              "      <td>0.690196</td>\n",
              "      <td>0.643137</td>\n",
              "      <td>0.607843</td>\n",
              "      <td>0.611765</td>\n",
              "      <td>0.615686</td>\n",
              "      <td>0.623529</td>\n",
              "      <td>0.631373</td>\n",
              "      <td>0.643137</td>\n",
              "      <td>0.650980</td>\n",
              "      <td>0.603922</td>\n",
              "      <td>0.552941</td>\n",
              "      <td>0.466667</td>\n",
              "      <td>0.380392</td>\n",
              "      <td>0.258824</td>\n",
              "      <td>0.133333</td>\n",
              "      <td>0.090196</td>\n",
              "      <td>0.054902</td>\n",
              "      <td>0.058824</td>\n",
              "      <td>0.066667</td>\n",
              "      <td>0.070588</td>\n",
              "      <td>0.078431</td>\n",
              "      <td>0.078431</td>\n",
              "      <td>0.082353</td>\n",
              "      <td>0.074510</td>\n",
              "      <td>0.058824</td>\n",
              "      <td>0.070588</td>\n",
              "      <td>0.098039</td>\n",
              "      <td>0.109804</td>\n",
              "    </tr>\n",
              "    <tr>\n",
              "      <th>17835</th>\n",
              "      <td>0.274510</td>\n",
              "      <td>0.509804</td>\n",
              "      <td>0.745098</td>\n",
              "      <td>0.196078</td>\n",
              "      <td>0.074510</td>\n",
              "      <td>0.400000</td>\n",
              "      <td>0.596078</td>\n",
              "      <td>0.650980</td>\n",
              "      <td>0.682353</td>\n",
              "      <td>0.654902</td>\n",
              "      <td>0.600000</td>\n",
              "      <td>0.603922</td>\n",
              "      <td>0.635294</td>\n",
              "      <td>0.647059</td>\n",
              "      <td>0.647059</td>\n",
              "      <td>0.666667</td>\n",
              "      <td>0.698039</td>\n",
              "      <td>0.658824</td>\n",
              "      <td>0.650980</td>\n",
              "      <td>0.635294</td>\n",
              "      <td>0.643137</td>\n",
              "      <td>0.670588</td>\n",
              "      <td>0.666667</td>\n",
              "      <td>0.713725</td>\n",
              "      <td>0.674510</td>\n",
              "      <td>0.650980</td>\n",
              "      <td>0.678431</td>\n",
              "      <td>0.674510</td>\n",
              "      <td>0.682353</td>\n",
              "      <td>0.639216</td>\n",
              "      <td>0.639216</td>\n",
              "      <td>0.615686</td>\n",
              "      <td>0.607843</td>\n",
              "      <td>0.600000</td>\n",
              "      <td>0.627451</td>\n",
              "      <td>0.650980</td>\n",
              "      <td>0.623529</td>\n",
              "      <td>0.674510</td>\n",
              "      <td>0.658824</td>\n",
              "      <td>0.647059</td>\n",
              "      <td>...</td>\n",
              "      <td>0.207843</td>\n",
              "      <td>0.211765</td>\n",
              "      <td>0.215686</td>\n",
              "      <td>0.227451</td>\n",
              "      <td>0.231373</td>\n",
              "      <td>0.270588</td>\n",
              "      <td>0.305882</td>\n",
              "      <td>0.317647</td>\n",
              "      <td>0.239216</td>\n",
              "      <td>0.070588</td>\n",
              "      <td>0.294118</td>\n",
              "      <td>0.403922</td>\n",
              "      <td>0.396078</td>\n",
              "      <td>0.396078</td>\n",
              "      <td>0.388235</td>\n",
              "      <td>0.388235</td>\n",
              "      <td>0.388235</td>\n",
              "      <td>0.392157</td>\n",
              "      <td>0.400000</td>\n",
              "      <td>0.403922</td>\n",
              "      <td>0.415686</td>\n",
              "      <td>0.423529</td>\n",
              "      <td>0.458824</td>\n",
              "      <td>0.325490</td>\n",
              "      <td>0.254902</td>\n",
              "      <td>0.149020</td>\n",
              "      <td>0.113725</td>\n",
              "      <td>0.196078</td>\n",
              "      <td>0.223529</td>\n",
              "      <td>0.333333</td>\n",
              "      <td>0.450980</td>\n",
              "      <td>0.529412</td>\n",
              "      <td>0.611765</td>\n",
              "      <td>0.635294</td>\n",
              "      <td>0.662745</td>\n",
              "      <td>0.639216</td>\n",
              "      <td>0.611765</td>\n",
              "      <td>0.611765</td>\n",
              "      <td>0.611765</td>\n",
              "      <td>0.611765</td>\n",
              "    </tr>\n",
              "  </tbody>\n",
              "</table>\n",
              "<p>17836 rows × 4096 columns</p>\n",
              "</div>\n",
              "      <button class=\"colab-df-convert\" onclick=\"convertToInteractive('df-4736d478-0b42-41bb-a793-022c00235b82')\"\n",
              "              title=\"Convert this dataframe to an interactive table.\"\n",
              "              style=\"display:none;\">\n",
              "        \n",
              "  <svg xmlns=\"http://www.w3.org/2000/svg\" height=\"24px\"viewBox=\"0 0 24 24\"\n",
              "       width=\"24px\">\n",
              "    <path d=\"M0 0h24v24H0V0z\" fill=\"none\"/>\n",
              "    <path d=\"M18.56 5.44l.94 2.06.94-2.06 2.06-.94-2.06-.94-.94-2.06-.94 2.06-2.06.94zm-11 1L8.5 8.5l.94-2.06 2.06-.94-2.06-.94L8.5 2.5l-.94 2.06-2.06.94zm10 10l.94 2.06.94-2.06 2.06-.94-2.06-.94-.94-2.06-.94 2.06-2.06.94z\"/><path d=\"M17.41 7.96l-1.37-1.37c-.4-.4-.92-.59-1.43-.59-.52 0-1.04.2-1.43.59L10.3 9.45l-7.72 7.72c-.78.78-.78 2.05 0 2.83L4 21.41c.39.39.9.59 1.41.59.51 0 1.02-.2 1.41-.59l7.78-7.78 2.81-2.81c.8-.78.8-2.07 0-2.86zM5.41 20L4 18.59l7.72-7.72 1.47 1.35L5.41 20z\"/>\n",
              "  </svg>\n",
              "      </button>\n",
              "      \n",
              "  <style>\n",
              "    .colab-df-container {\n",
              "      display:flex;\n",
              "      flex-wrap:wrap;\n",
              "      gap: 12px;\n",
              "    }\n",
              "\n",
              "    .colab-df-convert {\n",
              "      background-color: #E8F0FE;\n",
              "      border: none;\n",
              "      border-radius: 50%;\n",
              "      cursor: pointer;\n",
              "      display: none;\n",
              "      fill: #1967D2;\n",
              "      height: 32px;\n",
              "      padding: 0 0 0 0;\n",
              "      width: 32px;\n",
              "    }\n",
              "\n",
              "    .colab-df-convert:hover {\n",
              "      background-color: #E2EBFA;\n",
              "      box-shadow: 0px 1px 2px rgba(60, 64, 67, 0.3), 0px 1px 3px 1px rgba(60, 64, 67, 0.15);\n",
              "      fill: #174EA6;\n",
              "    }\n",
              "\n",
              "    [theme=dark] .colab-df-convert {\n",
              "      background-color: #3B4455;\n",
              "      fill: #D2E3FC;\n",
              "    }\n",
              "\n",
              "    [theme=dark] .colab-df-convert:hover {\n",
              "      background-color: #434B5C;\n",
              "      box-shadow: 0px 1px 3px 1px rgba(0, 0, 0, 0.15);\n",
              "      filter: drop-shadow(0px 1px 2px rgba(0, 0, 0, 0.3));\n",
              "      fill: #FFFFFF;\n",
              "    }\n",
              "  </style>\n",
              "\n",
              "      <script>\n",
              "        const buttonEl =\n",
              "          document.querySelector('#df-4736d478-0b42-41bb-a793-022c00235b82 button.colab-df-convert');\n",
              "        buttonEl.style.display =\n",
              "          google.colab.kernel.accessAllowed ? 'block' : 'none';\n",
              "\n",
              "        async function convertToInteractive(key) {\n",
              "          const element = document.querySelector('#df-4736d478-0b42-41bb-a793-022c00235b82');\n",
              "          const dataTable =\n",
              "            await google.colab.kernel.invokeFunction('convertToInteractive',\n",
              "                                                     [key], {});\n",
              "          if (!dataTable) return;\n",
              "\n",
              "          const docLinkHtml = 'Like what you see? Visit the ' +\n",
              "            '<a target=\"_blank\" href=https://colab.research.google.com/notebooks/data_table.ipynb>data table notebook</a>'\n",
              "            + ' to learn more about interactive tables.';\n",
              "          element.innerHTML = '';\n",
              "          dataTable['output_type'] = 'display_data';\n",
              "          await google.colab.output.renderOutput(dataTable, element);\n",
              "          const docLink = document.createElement('div');\n",
              "          docLink.innerHTML = docLinkHtml;\n",
              "          element.appendChild(docLink);\n",
              "        }\n",
              "      </script>\n",
              "    </div>\n",
              "  </div>\n",
              "  "
            ],
            "text/plain": [
              "             P0        P1        P2  ...     P4093     P4094     P4095\n",
              "0      0.576471  0.580392  0.576471  ...  0.541176  0.607843  0.603922\n",
              "1      0.956863  0.843137  0.768627  ...  0.643137  0.623529  0.572549\n",
              "2      0.352941  0.364706  0.352941  ...  0.137255  0.113725  0.133333\n",
              "3      0.309804  0.309804  0.317647  ...  0.929412  0.909804  0.890196\n",
              "4      0.501961  0.450980  0.419608  ...  0.309804  0.376471  0.290196\n",
              "...         ...       ...       ...  ...       ...       ...       ...\n",
              "17831  0.815686  0.815686  0.819608  ...  0.474510  0.654902  0.670588\n",
              "17832  0.992157  0.996078  1.000000  ...  0.196078  0.176471  0.172549\n",
              "17833  0.717647  0.631373  0.376471  ...  0.674510  0.909804  0.933333\n",
              "17834  0.862745  0.733333  0.462745  ...  0.070588  0.098039  0.109804\n",
              "17835  0.274510  0.509804  0.745098  ...  0.611765  0.611765  0.611765\n",
              "\n",
              "[17836 rows x 4096 columns]"
            ]
          },
          "metadata": {},
          "execution_count": 11
        },
        {
          "output_type": "stream",
          "name": "stdout",
          "text": [
            "Warning: Total number of columns (4096) exceeds max_columns (20) limiting to first (20) columns.\n"
          ]
        }
      ]
    },
    {
      "cell_type": "code",
      "source": [
        "print(type(X))"
      ],
      "metadata": {
        "colab": {
          "base_uri": "https://localhost:8080/"
        },
        "id": "k4Icfp765Fe1",
        "outputId": "af8db7d6-e7e9-4e9e-f33b-6202c051c804"
      },
      "execution_count": null,
      "outputs": [
        {
          "output_type": "stream",
          "name": "stdout",
          "text": [
            "<class 'pandas.core.frame.DataFrame'>\n"
          ]
        }
      ]
    },
    {
      "cell_type": "markdown",
      "metadata": {
        "id": "xL1Ppg9v4Wl8"
      },
      "source": [
        "### Split Train + Test, random_state"
      ]
    },
    {
      "cell_type": "code",
      "execution_count": null,
      "metadata": {
        "colab": {
          "base_uri": "https://localhost:8080/"
        },
        "id": "NRuwmYBQ4Wl9",
        "outputId": "ec60c677-9290-4f84-9fac-4802d2dde3ad"
      },
      "outputs": [
        {
          "output_type": "stream",
          "name": "stdout",
          "text": [
            "Length of our Training data:  14268 \n",
            "Length of our Testing data:  3568\n"
          ]
        }
      ],
      "source": [
        "# Split our data into testing and training.\n",
        "X_train, X_test, y_train, y_test = train_test_split(X, y, test_size=0.2, random_state=45)\n",
        "\n",
        "# Print the length and width of our testing data.\n",
        "print('Length of our Training data: ', len(X_train), '\\nLength of our Testing data: ', len(X_test))"
      ]
    },
    {
      "cell_type": "markdown",
      "metadata": {
        "id": "oFsAxcU_4Wl9"
      },
      "source": [
        "## KNN No Hyperparameter Tuning\n",
        "Xây dựng và đào tạo mô hình KNN với các tham số mặc định\n"
      ]
    },
    {
      "cell_type": "code",
      "execution_count": null,
      "metadata": {
        "colab": {
          "base_uri": "https://localhost:8080/"
        },
        "id": "NGlVEEPU4Wl-",
        "outputId": "fb629002-2703-457b-f689-5390fcca4786"
      },
      "outputs": [
        {
          "output_type": "stream",
          "name": "stderr",
          "text": [
            "/usr/local/lib/python3.7/dist-packages/sklearn/utils/validation.py:1679: FutureWarning: Feature names only support names that are all strings. Got feature names with dtypes: ['tuple']. An error will be raised in 1.2.\n",
            "  FutureWarning,\n"
          ]
        },
        {
          "output_type": "execute_result",
          "data": {
            "text/plain": [
              "KNeighborsClassifier()"
            ]
          },
          "metadata": {},
          "execution_count": 12
        }
      ],
      "source": [
        "# Initialize KNN model\n",
        "knn = KNeighborsClassifier()\n",
        "\n",
        "# Use training data to fit KNN model\n",
        "knn.fit(X_train, y_train.values.ravel())"
      ]
    },
    {
      "cell_type": "code",
      "execution_count": null,
      "metadata": {
        "colab": {
          "base_uri": "https://localhost:8080/"
        },
        "id": "ho8tB9o24Wl-",
        "outputId": "6acb0669-5c66-4470-f22e-74c0c3e49504"
      },
      "outputs": [
        {
          "output_type": "stream",
          "name": "stderr",
          "text": [
            "/usr/local/lib/python3.7/dist-packages/sklearn/utils/validation.py:1679: FutureWarning: Feature names only support names that are all strings. Got feature names with dtypes: ['tuple']. An error will be raised in 1.2.\n",
            "  FutureWarning,\n"
          ]
        },
        {
          "output_type": "stream",
          "name": "stdout",
          "text": [
            "CPU times: user 22.8 s, sys: 1.25 s, total: 24.1 s\n",
            "Wall time: 20.3 s\n"
          ]
        }
      ],
      "source": [
        "%%time\n",
        "# make prediction on entire test data\n",
        "predictions_set1 = knn.predict(X_test)"
      ]
    },
    {
      "cell_type": "code",
      "execution_count": null,
      "metadata": {
        "colab": {
          "base_uri": "https://localhost:8080/"
        },
        "id": "I-MEsJqwjibn",
        "outputId": "58ca901c-c8b3-48db-e5b8-826b7359fe39"
      },
      "outputs": [
        {
          "output_type": "execute_result",
          "data": {
            "text/plain": [
              "array([1, 0, 0, ..., 1, 1, 0])"
            ]
          },
          "metadata": {},
          "execution_count": 19
        }
      ],
      "source": [
        "predictions_set1"
      ]
    },
    {
      "cell_type": "code",
      "execution_count": null,
      "metadata": {
        "id": "Qft-jv7c4WmC"
      },
      "outputs": [],
      "source": [
        "# Save Predictions in a pickle\n",
        "# pickle_out = open(\"predictions_set1.pickle\", \"wb\")\n",
        "# pickle.dump(predictions_set1, pickle_out)\n",
        "# pickle_out.close()"
      ]
    },
    {
      "cell_type": "markdown",
      "metadata": {
        "id": "if2Mjzqz4WmF"
      },
      "source": [
        "## Performance Metrics for No Hyperparameter Tuning"
      ]
    },
    {
      "cell_type": "markdown",
      "metadata": {
        "id": "4QWI4FXR4WmF"
      },
      "source": [
        "#### Accuracy"
      ]
    },
    {
      "cell_type": "code",
      "execution_count": null,
      "metadata": {
        "colab": {
          "base_uri": "https://localhost:8080/"
        },
        "id": "l3BYp2Fx4WmF",
        "outputId": "8c6eb3c8-dce3-42bc-bd50-62b7fc3006c4"
      },
      "outputs": [
        {
          "output_type": "stream",
          "name": "stdout",
          "text": [
            "KNN Accuracy: 0.767\n"
          ]
        }
      ],
      "source": [
        "# 75-82% accuracy depending on the divide\n",
        "print('KNN Accuracy: %.3f' % accuracy_score(y_test, predictions_set1))"
      ]
    },
    {
      "cell_type": "markdown",
      "metadata": {
        "id": "HJZif0LE4WmG"
      },
      "source": [
        "#### Confusion Matrix"
      ]
    },
    {
      "cell_type": "code",
      "execution_count": null,
      "metadata": {
        "colab": {
          "base_uri": "https://localhost:8080/",
          "height": 538
        },
        "id": "skEFWgza4WmG",
        "outputId": "a70df64d-3ae0-4699-b1a2-9a0339cbce95"
      },
      "outputs": [
        {
          "output_type": "execute_result",
          "data": {
            "text/plain": [
              "Text(0.5, 1.0, 'Accuracy Score: 0.7668161434977578')"
            ]
          },
          "metadata": {},
          "execution_count": 15
        },
        {
          "output_type": "display_data",
          "data": {
            "image/png": "[encoded data removed]",
            "text/plain": [
              "<Figure size 648x648 with 2 Axes>"
            ]
          },
          "metadata": {
            "needs_background": "light"
          }
        }
      ],
      "source": [
        "# Calculate Confusion Matrix\n",
        "cm = confusion_matrix(y_test, predictions_set1)\n",
        "\n",
        "plt.figure(figsize=(9,9))\n",
        "# Heatmap visualization of accuracy\n",
        "sns.heatmap(cm,annot=True, fmt='.3f', linewidths=.5, square=True,cmap='Reds_r')\n",
        "plt.ylabel('Actual label')\n",
        "plt.xlabel('Predicted label')\n",
        "all_sample_title = 'Accuracy Score: {0}'.format(accuracy_score(y_test, predictions_set1))\n",
        "plt.title(all_sample_title,size=15)"
      ]
    },
    {
      "cell_type": "markdown",
      "metadata": {
        "id": "YIpjZxVI4WmH"
      },
      "source": [
        "### Precision, Recall, F1 Score & Classification Report, No Hyperparameter Tuning"
      ]
    },
    {
      "cell_type": "code",
      "execution_count": null,
      "metadata": {
        "colab": {
          "base_uri": "https://localhost:8080/"
        },
        "id": "hxvzPuI04WmH",
        "outputId": "3b9ce68d-c521-435d-ef23-c4b38b5f7ab2"
      },
      "outputs": [
        {
          "output_type": "stream",
          "name": "stdout",
          "text": [
            "KNN Precision: 0.836\n",
            "KNN Recall: 0.764\n",
            "KNN F1 Score: 0.765\n",
            "\n",
            "No Hyperparameter Tuning Classification Report\n",
            "               precision    recall  f1-score   support\n",
            "\n",
            "           0       0.60      0.98      0.75      1189\n",
            "           1       0.99      0.77      0.87      1230\n",
            "           2       0.92      0.54      0.68      1149\n",
            "\n",
            "    accuracy                           0.77      3568\n",
            "   macro avg       0.84      0.76      0.76      3568\n",
            "weighted avg       0.84      0.77      0.77      3568\n",
            "\n"
          ]
        }
      ],
      "source": [
        "print('KNN Precision: %.3f' % precision_score(y_test, predictions_set1, average='macro'))\n",
        "print('KNN Recall: %.3f' % recall_score(y_test, predictions_set1, average='macro'))\n",
        "print('KNN F1 Score: %.3f' % f1_score(y_test, predictions_set1, average='macro'))\n",
        "print(\"\\nNo Hyperparameter Tuning Classification Report\\n\", classification_report(y_test, predictions_set1))"
      ]
    },
    {
      "cell_type": "markdown",
      "metadata": {
        "id": "DErLUmIq4WmI"
      },
      "source": [
        "## Dimensionality Reduction - Giảm chiều dữ liệu "
      ]
    },
    {
      "cell_type": "markdown",
      "metadata": {
        "id": "gqSEEdt74WmI"
      },
      "source": [
        "### Principal Component Analysis, Keep 90% of variance"
      ]
    },
    {
      "cell_type": "code",
      "execution_count": null,
      "metadata": {
        "colab": {
          "base_uri": "https://localhost:8080/"
        },
        "id": "gf-F3nE84WmI",
        "outputId": "2086cd44-1638-468e-f347-e38da9e784b2"
      },
      "outputs": [
        {
          "output_type": "stream",
          "name": "stderr",
          "text": [
            "/usr/local/lib/python3.7/dist-packages/sklearn/utils/validation.py:1679: FutureWarning: Feature names only support names that are all strings. Got feature names with dtypes: ['tuple']. An error will be raised in 1.2.\n",
            "  FutureWarning,\n",
            "/usr/local/lib/python3.7/dist-packages/sklearn/utils/validation.py:1679: FutureWarning: Feature names only support names that are all strings. Got feature names with dtypes: ['tuple']. An error will be raised in 1.2.\n",
            "  FutureWarning,\n"
          ]
        },
        {
          "output_type": "stream",
          "name": "stdout",
          "text": [
            "(14268, 154)\n",
            "(14268, 4096)\n"
          ]
        }
      ],
      "source": [
        "# Dimensionality Reduction with Principal Component Analysis (PCA)\n",
        "pca = PCA(0.90) # Preserve 90% of the variance\n",
        "\n",
        "X_transformed = pca.fit_transform(X_train) # Fit the pca transform with X_train\n",
        "X_test_transformed = pca.transform(X_test) # Apply transform to X_test\n",
        "\n",
        "# Training set shape after Principal Component Analysis form\n",
        "print(X_transformed.shape)\n",
        "\n",
        "# Original Training Set Shape\n",
        "# Notice we lose 3,943 features using PCA, while preserving 90% variance\n",
        "print(X_train.shape)"
      ]
    },
    {
      "cell_type": "code",
      "execution_count": null,
      "metadata": {
        "colab": {
          "base_uri": "https://localhost:8080/"
        },
        "id": "3RzgIIYQ4WmJ",
        "outputId": "3ed18157-4ba4-4844-d2ea-cd6bb10e59e2"
      },
      "outputs": [
        {
          "output_type": "execute_result",
          "data": {
            "text/plain": [
              "KNeighborsClassifier()"
            ]
          },
          "metadata": {},
          "execution_count": 18
        }
      ],
      "source": [
        "# Initialize KNN model for PCA instance\n",
        "knn_pca = KNeighborsClassifier()\n",
        "\n",
        "# Use training data to fit KNN model with transformed X_train\n",
        "knn_pca.fit(X_transformed, y_train.values.ravel())"
      ]
    },
    {
      "cell_type": "code",
      "execution_count": null,
      "metadata": {
        "colab": {
          "base_uri": "https://localhost:8080/"
        },
        "id": "2mnY0a0t4WmJ",
        "outputId": "0aaad90e-1f06-4c5a-d380-9b3ab142abc6"
      },
      "outputs": [
        {
          "output_type": "stream",
          "name": "stdout",
          "text": [
            "Accuracy Train PCA: 0.8919960751331651\n",
            "CPU times: user 7.5 s, sys: 746 ms, total: 8.24 s\n",
            "Wall time: 6.11 s\n"
          ]
        }
      ],
      "source": [
        "%%time\n",
        "# make prediction on entire train data\n",
        "predictions_set_pca = knn_pca.predict(X_transformed)\n",
        "print(\"Accuracy Train PCA:\", accuracy_score(y_train, predictions_set_pca))"
      ]
    },
    {
      "cell_type": "code",
      "execution_count": null,
      "metadata": {
        "colab": {
          "base_uri": "https://localhost:8080/"
        },
        "id": "Vl89hBTK4WmJ",
        "outputId": "0f034231-c80b-4f89-90da-3f6e0963d060"
      },
      "outputs": [
        {
          "output_type": "stream",
          "name": "stdout",
          "text": [
            "Accuracy test PCA: 0.852017937219731\n",
            "CPU times: user 1.93 s, sys: 119 ms, total: 2.05 s\n",
            "Wall time: 1.48 s\n"
          ]
        }
      ],
      "source": [
        "%%time\n",
        "# make prediction on entire test data\n",
        "predictions_set_pca = knn_pca.predict(X_test_transformed)\n",
        "print(\"Accuracy test PCA:\", accuracy_score(y_test, predictions_set_pca))"
      ]
    },
    {
      "cell_type": "code",
      "execution_count": null,
      "metadata": {
        "colab": {
          "base_uri": "https://localhost:8080/",
          "height": 741
        },
        "id": "iKcLrlxG4WmK",
        "outputId": "318fa130-1a02-4a48-ce80-d22cfa31958b"
      },
      "outputs": [
        {
          "output_type": "stream",
          "name": "stdout",
          "text": [
            "\n",
            " PCA Classification Report\n",
            "               precision    recall  f1-score   support\n",
            "\n",
            "           0       0.72      0.98      0.83      1189\n",
            "           1       0.97      0.92      0.94      1230\n",
            "           2       0.94      0.65      0.77      1149\n",
            "\n",
            "    accuracy                           0.85      3568\n",
            "   macro avg       0.88      0.85      0.85      3568\n",
            "weighted avg       0.88      0.85      0.85      3568\n",
            "\n"
          ]
        },
        {
          "output_type": "display_data",
          "data": {
            "image/png": "[encoded data removed]",
            "text/plain": [
              "<Figure size 648x648 with 2 Axes>"
            ]
          },
          "metadata": {
            "needs_background": "light"
          }
        }
      ],
      "source": [
        "# Calculate Confusion Matrix for PCA\n",
        "cm = confusion_matrix(y_test, predictions_set_pca)\n",
        "\n",
        "plt.figure(figsize=(9,9))\n",
        "\n",
        "# Heatmap visualization of accuracy\n",
        "sns.heatmap(cm,annot=True, fmt='.3f', linewidths=.5, square=True,cmap='Reds_r')\n",
        "plt.ylabel('Actual label')\n",
        "plt.xlabel('Predicted label')\n",
        "title = 'Accuracy Score Test PCA: {0}'.format(accuracy_score(y_test, predictions_set_pca))\n",
        "plt.title(title,size=15)\n",
        "\n",
        "print(\"\\n PCA Classification Report\\n\", classification_report(y_test, predictions_set_pca))"
      ]
    },
    {
      "cell_type": "markdown",
      "metadata": {
        "id": "0jzTuu4S4WmK"
      },
      "source": [
        "## KNN Hyperparameter Tuning with GridSearchCV"
      ]
    },
    {
      "cell_type": "code",
      "execution_count": null,
      "metadata": {
        "id": "IkQps-eN4WmK",
        "scrolled": true
      },
      "outputs": [],
      "source": [
        "# New KNN instance model\n",
        "knn = KNeighborsClassifier()\n",
        "\n",
        "# Dictionary of parameter values we are testing performance for\n",
        "param_grid = {'n_neighbors': [5, 7, 9, 11], 'p': [2, 4, 6, 8, 10, 20, 50], 'metric': ['euclidean', 'manhattan', 'minkowski']}\n",
        "\n",
        "# Test all parameter combinations in param_grid\n",
        "knn_gscv = GridSearchCV(knn, param_grid, scoring='f1_micro', cv=5, verbose=3, n_jobs=-1)"
      ]
    },
    {
      "cell_type": "code",
      "execution_count": null,
      "metadata": {
        "id": "sfEA7t-y4WmL"
      },
      "outputs": [],
      "source": [
        "# Fit model to data\n",
        "knn_gscv.fit(X_train, y_train.values.ravel())"
      ]
    },
    {
      "cell_type": "code",
      "execution_count": null,
      "metadata": {
        "id": "v0JbFl7v4WmL"
      },
      "outputs": [],
      "source": [
        "# Get GridSearchCV's top performing parameters and score\n",
        "\n",
        "# Best Params: n_neighbors=5, distance=manhattan, p=2\n",
        "best_params_ = knn_gscv.best_params_\n",
        "\n",
        "# Best Score 82.7%\n",
        "knn_gscv.best_score_"
      ]
    },
    {
      "cell_type": "markdown",
      "metadata": {
        "id": "AuwuNYg_4WmL"
      },
      "source": [
        "## KNN Hyperparameter Tuning with RandomizedSearchCV"
      ]
    },
    {
      "cell_type": "code",
      "execution_count": null,
      "metadata": {
        "id": "ww6KSkdA4WmL"
      },
      "outputs": [],
      "source": [
        "# Parameter values that should be tested\n",
        "k_range = list(range(1,21))\n",
        "metric = ['manhattan'] # Manhattan distance outperformed Euclidean in GridSearch, so we exclude it here\n",
        "options = ['uniform', 'distance']\n",
        "\n",
        "# Set parameter grid respectively\n",
        "param_grid = dict(n_neighbors=k_range, metric=metric, weights=options)"
      ]
    },
    {
      "cell_type": "code",
      "execution_count": null,
      "metadata": {
        "id": "_mQeyt5H4WmM",
        "colab": {
          "base_uri": "https://localhost:8080/"
        },
        "outputId": "9bec51af-d2f5-4829-c16f-e3479c8d5deb"
      },
      "outputs": [
        {
          "output_type": "stream",
          "name": "stderr",
          "text": [
            "/usr/local/lib/python3.7/dist-packages/sklearn/utils/validation.py:1679: FutureWarning: Feature names only support names that are all strings. Got feature names with dtypes: ['tuple']. An error will be raised in 1.2.\n",
            "  FutureWarning,\n",
            "/usr/local/lib/python3.7/dist-packages/sklearn/utils/validation.py:1679: FutureWarning: Feature names only support names that are all strings. Got feature names with dtypes: ['tuple']. An error will be raised in 1.2.\n",
            "  FutureWarning,\n"
          ]
        }
      ],
      "source": [
        "# Notes on RandomizedSearchCV parameters\n",
        "    # n_iter: Number of random combinations it would try\n",
        "    # random_state: Reproducibility/ Set seed\n",
        "\n",
        "# Initialize new KNN model\n",
        "knn_rand = KNeighborsClassifier()\n",
        "\n",
        "# Initialize Randomized Search with params\n",
        "# Cross Validation is 10\n",
        "rand = RandomizedSearchCV(knn_rand, param_grid, cv=10, scoring='accuracy', n_iter=10, random_state=5)\n",
        "\n",
        "# Fit Randomized Search with the training data\n",
        "rand.fit(X_train, y_train.values.ravel())"
      ]
    },
    {
      "cell_type": "code",
      "execution_count": null,
      "metadata": {
        "id": "G09VzuGk4WmM"
      },
      "outputs": [],
      "source": [
        "rand.best_params_ \n",
        "# {'weights': 'distance', 'n_neighbors': 2, 'metric': 'manhattan'}"
      ]
    },
    {
      "cell_type": "code",
      "execution_count": null,
      "metadata": {
        "id": "jrRznZZY4WmM"
      },
      "outputs": [],
      "source": [
        "rand.best_score_ \n",
        "# 0.8652206356425648"
      ]
    },
    {
      "cell_type": "code",
      "execution_count": null,
      "metadata": {
        "id": "bKKD2pxQ4WmM"
      },
      "outputs": [],
      "source": [
        "# Initial Randomized Search CV result Before Normalization\n",
        "# 0.7488861511088009\n",
        "# {'weights': 'distance', 'n_neighbors': 10}"
      ]
    },
    {
      "cell_type": "markdown",
      "metadata": {
        "id": "GELcjQVN4WmN"
      },
      "source": [
        "## Performance of Best Params"
      ]
    },
    {
      "cell_type": "code",
      "execution_count": null,
      "metadata": {
        "id": "Tc77eNzP4WmN"
      },
      "outputs": [],
      "source": [
        "best_params = {'weights': 'distance', 'n_neighbors': 2, 'metric': 'manhattan'}"
      ]
    },
    {
      "cell_type": "code",
      "execution_count": null,
      "metadata": {
        "id": "aeNQcUMW4WmN",
        "colab": {
          "base_uri": "https://localhost:8080/"
        },
        "outputId": "01e95a83-86b7-4321-8912-1ebc10ae9afa"
      },
      "outputs": [
        {
          "output_type": "stream",
          "name": "stderr",
          "text": [
            "/usr/local/lib/python3.7/dist-packages/sklearn/utils/validation.py:1679: FutureWarning: Feature names only support names that are all strings. Got feature names with dtypes: ['tuple']. An error will be raised in 1.2.\n",
            "  FutureWarning,\n",
            "/usr/local/lib/python3.7/dist-packages/sklearn/utils/validation.py:1679: FutureWarning: Feature names only support names that are all strings. Got feature names with dtypes: ['tuple']. An error will be raised in 1.2.\n",
            "  FutureWarning,\n",
            "/usr/local/lib/python3.7/dist-packages/sklearn/utils/validation.py:1679: FutureWarning: Feature names only support names that are all strings. Got feature names with dtypes: ['tuple']. An error will be raised in 1.2.\n",
            "  FutureWarning,\n"
          ]
        },
        {
          "output_type": "stream",
          "name": "stdout",
          "text": [
            "Accuracy Train: 1.000\n",
            "Accuracy Test: 0.886\n",
            "\n",
            "Classification Report\n",
            "               precision    recall  f1-score   support\n",
            "\n",
            "           0       0.79      0.97      0.87      1189\n",
            "           1       0.99      0.86      0.92      1230\n",
            "           2       0.92      0.83      0.87      1149\n",
            "\n",
            "    accuracy                           0.89      3568\n",
            "   macro avg       0.90      0.89      0.89      3568\n",
            "weighted avg       0.90      0.89      0.89      3568\n",
            "\n"
          ]
        }
      ],
      "source": [
        "# create new a knn model with best params\n",
        "b_knn = KNeighborsClassifier(**best_params)\n",
        "\n",
        "#fit model to data\n",
        "b_knn.fit(X_train, y_train.values.ravel())\n",
        "\n",
        "# make prediction on entire test data\n",
        "train_pred = b_knn.predict(X_train)\n",
        "\n",
        "# make prediction on entire test data\n",
        "y_pred = b_knn.predict(X_test)\n",
        "\n",
        "print('Accuracy Train: %.3f' % accuracy_score(y_train, train_pred))\n",
        "print('Accuracy Test: %.3f' % accuracy_score(y_test, y_pred))\n",
        "print(\"\\nClassification Report\\n\", classification_report(y_test, y_pred))"
      ]
    },
    {
      "cell_type": "code",
      "execution_count": null,
      "metadata": {
        "id": "WJSrGolY4WmN",
        "colab": {
          "base_uri": "https://localhost:8080/",
          "height": 538
        },
        "outputId": "62126ff7-63da-458a-f67b-29ada738ccf7"
      },
      "outputs": [
        {
          "output_type": "execute_result",
          "data": {
            "text/plain": [
              "Text(0.5, 1.0, 'Accuracy Score Best Params: 0.8856502242152466')"
            ]
          },
          "metadata": {},
          "execution_count": 25
        },
        {
          "output_type": "display_data",
          "data": {
            "image/png": "[encoded data removed]",
            "text/plain": [
              "<Figure size 648x648 with 2 Axes>"
            ]
          },
          "metadata": {
            "needs_background": "light"
          }
        }
      ],
      "source": [
        "# Calculate Confusion Matrix for Best Param Model\n",
        "cm = confusion_matrix(y_test, y_pred)\n",
        "\n",
        "plt.figure(figsize=(9,9))\n",
        "# Heatmap visualization of accuracy\n",
        "sns.heatmap(cm,annot=True, fmt='.3f', linewidths=.5, square=True,cmap='Greens_r')\n",
        "plt.ylabel('Actual label')\n",
        "plt.xlabel('Predicted label')\n",
        "title = 'Accuracy Score Best Params: {0}'.format(accuracy_score(y_test, y_pred))\n",
        "plt.title(title,size=15)"
      ]
    },
    {
      "cell_type": "markdown",
      "metadata": {
        "id": "jAt8oWPa4WmO"
      },
      "source": [
        "## Dimensionality Reduction [Best Params]"
      ]
    },
    {
      "cell_type": "markdown",
      "metadata": {
        "id": "mLlsL7st4WmO"
      },
      "source": [
        "### Principal Component Analysis, Keep 90% of variance [Best Params]"
      ]
    },
    {
      "cell_type": "code",
      "execution_count": null,
      "metadata": {
        "id": "9ei2Fwc04WmO",
        "colab": {
          "base_uri": "https://localhost:8080/"
        },
        "outputId": "15e15d77-ed00-4df6-f52e-00b0b5742df9"
      },
      "outputs": [
        {
          "output_type": "stream",
          "name": "stderr",
          "text": [
            "/usr/local/lib/python3.7/dist-packages/sklearn/utils/validation.py:1679: FutureWarning: Feature names only support names that are all strings. Got feature names with dtypes: ['tuple']. An error will be raised in 1.2.\n",
            "  FutureWarning,\n",
            "/usr/local/lib/python3.7/dist-packages/sklearn/utils/validation.py:1679: FutureWarning: Feature names only support names that are all strings. Got feature names with dtypes: ['tuple']. An error will be raised in 1.2.\n",
            "  FutureWarning,\n"
          ]
        },
        {
          "output_type": "stream",
          "name": "stdout",
          "text": [
            "(14268, 154)\n",
            "(14268, 4096)\n"
          ]
        }
      ],
      "source": [
        "# Dimensionality Reduction with Principal Component Analysis (PCA)\n",
        "pca = PCA(0.90) # Preserve 90% of the variance\n",
        "\n",
        "X_transformed = pca.fit_transform(X_train) # Fit the pca transform with X_train\n",
        "X_test_transformed = pca.transform(X_test) # Apply transform to X_test\n",
        "\n",
        "# Training set shape after Principal Component Analysis form\n",
        "print(X_transformed.shape)\n",
        "\n",
        "# Original Training Set Shape\n",
        "# Notice we lose 3,943 features using PCA, while preserving 90% variance\n",
        "print(X_train.shape)"
      ]
    },
    {
      "cell_type": "code",
      "execution_count": null,
      "metadata": {
        "id": "E0oUf0q44WmO",
        "colab": {
          "base_uri": "https://localhost:8080/"
        },
        "outputId": "d1366dbf-7565-437d-ae42-ddbbc5702a12"
      },
      "outputs": [
        {
          "output_type": "execute_result",
          "data": {
            "text/plain": [
              "KNeighborsClassifier(metric='manhattan', n_neighbors=2, weights='distance')"
            ]
          },
          "metadata": {},
          "execution_count": 27
        }
      ],
      "source": [
        "# Initialize KNN model for PCA instance\n",
        "knn_pca = KNeighborsClassifier(**best_params)\n",
        "\n",
        "# Use training data to fit KNN model with transformed X_train\n",
        "knn_pca.fit(X_transformed, y_train.values.ravel())"
      ]
    },
    {
      "cell_type": "code",
      "execution_count": null,
      "metadata": {
        "id": "-fhsuhe64WmP",
        "colab": {
          "base_uri": "https://localhost:8080/"
        },
        "outputId": "e41474f5-604c-4418-8f43-b8c9e328c27b"
      },
      "outputs": [
        {
          "output_type": "stream",
          "name": "stdout",
          "text": [
            "Accuracy Train PCA: 1.0\n",
            "CPU times: user 17.7 s, sys: 128 ms, total: 17.8 s\n",
            "Wall time: 17.7 s\n"
          ]
        }
      ],
      "source": [
        "%%time\n",
        "# make prediction on entire train data\n",
        "predictions_set_pca = knn_pca.predict(X_transformed)\n",
        "print(\"Accuracy Train PCA:\", accuracy_score(y_train, predictions_set_pca))"
      ]
    },
    {
      "cell_type": "code",
      "execution_count": null,
      "metadata": {
        "id": "nZqTjX5k4WmP",
        "colab": {
          "base_uri": "https://localhost:8080/"
        },
        "outputId": "d566c877-44fc-4b38-c592-522503b94582"
      },
      "outputs": [
        {
          "output_type": "stream",
          "name": "stdout",
          "text": [
            "Accuracy Train PCA: 0.8276345291479821\n",
            "CPU times: user 4.38 s, sys: 6.98 ms, total: 4.38 s\n",
            "Wall time: 4.37 s\n"
          ]
        }
      ],
      "source": [
        "%%time\n",
        "# make prediction on entire test data\n",
        "predictions_set_pca = knn_pca.predict(X_test_transformed)\n",
        "print(\"Accuracy Train PCA:\", accuracy_score(y_test, predictions_set_pca))"
      ]
    },
    {
      "cell_type": "markdown",
      "metadata": {
        "id": "xGZqdKpf4WmT"
      },
      "source": [
        "### PCA Classification Report [Best Params]"
      ]
    },
    {
      "cell_type": "code",
      "execution_count": null,
      "metadata": {
        "id": "2Gfm5TEV4WmT",
        "colab": {
          "base_uri": "https://localhost:8080/",
          "height": 741
        },
        "outputId": "5922bf2c-831e-49db-e0a7-c8ba5f9f9b67"
      },
      "outputs": [
        {
          "output_type": "stream",
          "name": "stdout",
          "text": [
            "\n",
            " PCA Classification Report\n",
            "               precision    recall  f1-score   support\n",
            "\n",
            "           0       0.69      0.97      0.80      1189\n",
            "           1       0.98      0.81      0.89      1230\n",
            "           2       0.91      0.70      0.79      1149\n",
            "\n",
            "    accuracy                           0.83      3568\n",
            "   macro avg       0.86      0.83      0.83      3568\n",
            "weighted avg       0.86      0.83      0.83      3568\n",
            "\n"
          ]
        },
        {
          "output_type": "display_data",
          "data": {
            "image/png": "[encoded data removed]",
            "text/plain": [
              "<Figure size 648x648 with 2 Axes>"
            ]
          },
          "metadata": {
            "needs_background": "light"
          }
        }
      ],
      "source": [
        "# Calculate Confusion Matrix for \n",
        "cm = confusion_matrix(y_test, predictions_set_pca)\n",
        "\n",
        "plt.figure(figsize=(9,9))\n",
        "\n",
        "# Heatmap visualization of accuracy\n",
        "sns.heatmap(cm,annot=True, fmt='.3f', linewidths=.5, square=True,cmap='Oranges_r')\n",
        "plt.ylabel('Actual label')\n",
        "plt.xlabel('Predicted label')\n",
        "title = 'Accuracy Score Test PCA: {0}'.format(accuracy_score(y_test, predictions_set_pca))\n",
        "plt.title(title,size=15)\n",
        "\n",
        "print(\"\\n PCA Classification Report\\n\", classification_report(y_test, predictions_set_pca))"
      ]
    },
    {
      "cell_type": "markdown",
      "metadata": {
        "id": "1avyugu74WmT"
      },
      "source": [
        "## Testing Model Bias \n",
        "\n",
        "Một bộ dữ liệu bên ngoài sẽ được dùng để kiểm tra và sử dụng làm dữ liệu kiểm tra cho mô hình.\n",
        "\n",
        "- Test_bias (TB) dataset"
      ]
    },
    {
      "cell_type": "code",
      "execution_count": null,
      "metadata": {
        "id": "EIMMtObO4WmU"
      },
      "outputs": [],
      "source": [
        "# Best Parameters for KNN Model\n",
        "best_params = {'weights': 'distance', 'n_neighbors': 2, 'metric': 'manhattan'}"
      ]
    },
    {
      "cell_type": "code",
      "execution_count": null,
      "metadata": {
        "id": "EtyJXCvxU-ey"
      },
      "outputs": [],
      "source": [
        "# Load TB datasets\n",
        "pickle_in = open(\"X_test_bias.pickle\", \"rb\")\n",
        "TB_X = pickle.load(pickle_in)\n",
        "pickle_in = open(\"y_test_bias.pickle\", \"rb\")\n",
        "TB_y = pickle.load(pickle_in)\n",
        "\n",
        "# TB target and feature set shape\n",
        "print(\"Features, TB_X shape: \", TB_X.shape)\n",
        "print(\"Target, TB_y shape: \", TB_y.shape)\n",
        "\n",
        "# Normalize the pixel values\n",
        "TB_X = TB_y / 255.0"
      ]
    },
    {
      "cell_type": "code",
      "execution_count": null,
      "metadata": {
        "id": "5DAZOD6v4WmV"
      },
      "outputs": [],
      "source": [
        "# Re-initialize KNN model with best params and fit it\n",
        "knn_tb = KNeighborsClassifier(**best_params)\n",
        "knn_tb.fit(X_train, y_train.values.ravel())"
      ]
    },
    {
      "cell_type": "code",
      "execution_count": null,
      "metadata": {
        "id": "InrILIkw4WmW"
      },
      "outputs": [],
      "source": [
        "# make prediction on the entire tb dataset\n",
        "y_pred_tb = knn_tb.predict(TB_X)"
      ]
    },
    {
      "cell_type": "code",
      "execution_count": null,
      "metadata": {
        "id": "xT6ddj044WmX"
      },
      "outputs": [],
      "source": [
        "# Calculate Confusion Matrix\n",
        "cm = confusion_matrix(TB_y, y_pred_tb)\n",
        "\n",
        "plt.figure(figsize=(9,9))\n",
        "# Heatmap visualization of accuracy\n",
        "sns.heatmap(cm,annot=True, fmt='.3f', linewidths=.5, square=True,cmap='Reds_r')\n",
        "plt.ylabel('Actual label')\n",
        "plt.xlabel('Predicted label')\n",
        "title = 'tb Accuracy Score: {0}'.format(accuracy_score(TB_y, y_pred_tb))\n",
        "plt.title(title,size=15)"
      ]
    },
    {
      "cell_type": "code",
      "execution_count": null,
      "metadata": {
        "id": "vfS7V1Rd4WmX"
      },
      "outputs": [],
      "source": [
        "print(\"\\nClassification Report Best Params\\n\", classification_report(y_test, y_pred))\n",
        "print(\"\\nClassification Report tb Test Dataset\\n\", classification_report(TB_y, y_pred_tb))"
      ]
    },
    {
      "cell_type": "markdown",
      "metadata": {
        "id": "uyl-gyDH4WmY"
      },
      "source": [
        "## Conclusion"
      ]
    },
    {
      "cell_type": "markdown",
      "metadata": {
        "id": "3IPRY90K4WmY"
      },
      "source": [
        "### Bias Evaluation\n",
        "\n",
        "\n",
        "Các nguồn được tham khảo để xây dựng mô hình này:\n",
        "- https://scikit-learn.org/stable/modules/generated/sklearn.neighbors.KNeighborsClassifier.html\n",
        "- https://scikit-learn.org/stable/modules/generated/sklearn.model_selection.GridSearchCV.html\n",
        "- https://scikit-learn.org/stable/modules/generated/sklearn.model_selection.RandomizedSearchCV.html"
      ]
    },
    {
      "cell_type": "markdown",
      "metadata": {
        "id": "D8VzX8BY4WmY"
      },
      "source": [
        "### Saving & Exporting KNN model for future use"
      ]
    },
    {
      "cell_type": "code",
      "execution_count": null,
      "metadata": {
        "id": "COKXZLNw4WmZ"
      },
      "outputs": [],
      "source": [
        "# NAME OF MODEL\n",
        "filename = 'knn-face-mask-detection-model.pkl'\n",
        "\n",
        "# EXPORT AND SAVE MODEL \n",
        "pickle.dump(b_knn, open(filename, 'wb'))"
      ]
    }
  ],
  "metadata": {
    "accelerator": "GPU",
    "colab": {
      "collapsed_sections": [
        "mLlsL7st4WmO",
        "xGZqdKpf4WmT",
        "3IPRY90K4WmY"
      ],
      "name": "KNN_Classifier.ipynb",
      "provenance": [],
      "toc_visible": true
    },
    "kernelspec": {
      "display_name": "Python 3",
      "language": "python",
      "name": "python3"
    },
    "language_info": {
      "codemirror_mode": {
        "name": "ipython",
        "version": 3
      },
      "file_extension": ".py",
      "mimetype": "text/x-python",
      "name": "python",
      "nbconvert_exporter": "python",
      "pygments_lexer": "ipython3",
      "version": "3.8.3"
    }
  },
  "nbformat": 4,
  "nbformat_minor": 0
}