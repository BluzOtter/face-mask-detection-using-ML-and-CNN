{
  "cells": [
    {
      "cell_type": "markdown",
      "metadata": {
        "id": "WaAWMJmx4qny"
      },
      "source": [
        "# Data Preprocessing"
      ]
    },
    {
      "cell_type": "code",
      "source": [
        "from google.colab import drive\n",
        "drive.mount('/content/drive')"
      ],
      "metadata": {
        "colab": {
          "base_uri": "https://localhost:8080/"
        },
        "id": "-RcxM1HG4xRW",
        "outputId": "eceae79a-f634-49d7-ff12-6066ac39b44a"
      },
      "execution_count": null,
      "outputs": [
        {
          "output_type": "stream",
          "name": "stdout",
          "text": [
            "Mounted at /content/drive\n"
          ]
        }
      ]
    },
    {
      "cell_type": "code",
      "source": [
        "# %cd /content/drive/MyDrive/Face-Mask-Dataset"
      ],
      "metadata": {
        "id": "ZD7v5qt55Ytd"
      },
      "execution_count": null,
      "outputs": []
    },
    {
      "cell_type": "code",
      "source": [
        "# giải nén file images \n",
        "!unzip /content/drive/MyDrive/data-face-mask/12k-images.zip"
      ],
      "metadata": {
        "id": "hsjScYAJ5ciB"
      },
      "execution_count": null,
      "outputs": []
    },
    {
      "cell_type": "code",
      "source": [
        "!unzip /content/drive/MyDrive/data-face-mask/51000.zip"
      ],
      "metadata": {
        "id": "0IsKkjso7CQx"
      },
      "execution_count": null,
      "outputs": []
    },
    {
      "cell_type": "code",
      "source": [
        "!unzip /content/drive/MyDrive/data-face-mask/incorrect-mask.zip"
      ],
      "metadata": {
        "id": "QPpxh3XlQKYK"
      },
      "execution_count": null,
      "outputs": []
    },
    {
      "cell_type": "markdown",
      "metadata": {
        "id": "KdyuS7n94qn9"
      },
      "source": [
        "## Feature Extraction"
      ]
    },
    {
      "cell_type": "code",
      "execution_count": null,
      "metadata": {
        "id": "PO2Spudp4qn6"
      },
      "outputs": [],
      "source": [
        "#import libraries\n",
        "from sklearn.model_selection import train_test_split\n",
        "import numpy as np\n",
        "import os\n",
        "import PIL\n",
        "import cv2\n",
        "import pickle"
      ]
    },
    {
      "cell_type": "code",
      "source": [
        "DIRECTORY = \"/content/drive/MyDrive/data-face-mask/Face-Mask-Dataset\" \n",
        "\n",
        "CATEGORIES = ['WithoutMask','IncorrectlyWornMask', 'WithMask']\n",
        "IMG_SIZE = 64 # IMG_SIZE = 224 alternative size"
      ],
      "metadata": {
        "id": "cFc_MAIkRMjf"
      },
      "execution_count": null,
      "outputs": []
    },
    {
      "cell_type": "code",
      "source": [
        "#data\n",
        "X = []\n",
        "#labels(0,1,2)\n",
        "y = []"
      ],
      "metadata": {
        "id": "EaZVWW0ZRPMs"
      },
      "execution_count": null,
      "outputs": []
    },
    {
      "cell_type": "code",
      "execution_count": null,
      "metadata": {
        "id": "56qqsIya4qoA"
      },
      "outputs": [],
      "source": [
        "def create_data():\n",
        "    for category in CATEGORIES:\n",
        "        path = os.path.join(DIRECTORY, category)\n",
        "        class_num_label = CATEGORIES.index(category)\n",
        "        for img in os.listdir(path):\n",
        "            try:\n",
        "                img_array = cv2.imread(os.path.join(path,img), cv2.IMREAD_GRAYSCALE)\n",
        "                img_array = cv2.resize(img_array, (IMG_SIZE,IMG_SIZE))\n",
        "                X.append(img_array)\n",
        "                y.append(class_num_label)\n",
        "            except Exception as e:\n",
        "                pass\n",
        "            \n",
        "create_data()"
      ]
    },
    {
      "cell_type": "code",
      "source": [
        ""
      ],
      "metadata": {
        "id": "HPJB80CYRaZk"
      },
      "execution_count": null,
      "outputs": []
    },
    {
      "cell_type": "markdown",
      "metadata": {
        "id": "as5zQqiC4qoB"
      },
      "source": [
        "## Convert to Numpy Array"
      ]
    },
    {
      "cell_type": "code",
      "execution_count": null,
      "metadata": {
        "id": "Eb_RgDbg4qoC",
        "outputId": "b2bd4273-e33c-47a1-eb16-451e08729f62",
        "colab": {
          "base_uri": "https://localhost:8080/"
        }
      },
      "outputs": [
        {
          "output_type": "stream",
          "name": "stdout",
          "text": [
            "Features, X shape:  (17836, 64, 64)\n",
            "Target, y shape:  (17836,)\n",
            "Data shape:  (17836, 4096)\n"
          ]
        }
      ],
      "source": [
        "# Get images as a 4,096 feature set\n",
        "SAMPLE_SIZE = len(y)\n",
        "data = np.array(X).flatten().reshape(SAMPLE_SIZE, IMG_SIZE*IMG_SIZE) # pixel-features\n",
        "\n",
        "# Turn X and y into numpy arrays\n",
        "X = np.array(X).reshape(-1, IMG_SIZE, IMG_SIZE) # images\n",
        "y = np.array(y) # target\n",
        "\n",
        "print(\"Features, X shape: \", X.shape)\n",
        "print(\"Target, y shape: \", y.shape)\n",
        "print(\"Data shape: \", data.shape)"
      ]
    },
    {
      "cell_type": "markdown",
      "metadata": {
        "id": "NsPbpBKp4qoE"
      },
      "source": [
        "## Plot Dataset Images"
      ]
    },
    {
      "cell_type": "code",
      "execution_count": null,
      "metadata": {
        "id": "7KCCXA_w4qoF",
        "outputId": "c702cdf1-f1da-4d10-a83e-5ebffa220cb8",
        "colab": {
          "base_uri": "https://localhost:8080/",
          "height": 486
        }
      },
      "outputs": [
        {
          "output_type": "display_data",
          "data": {
            "image/png": "[encoded data removed]",
            "text/plain": [
              "<Figure size 1440x720 with 3 Axes>"
            ]
          },
          "metadata": {
            "needs_background": "light"
          }
        }
      ],
      "source": [
        "import matplotlib.pyplot as plt # to plot inage, graph\n",
        "%matplotlib inline\n",
        "\n",
        "plt.figure(figsize=(20,10))\n",
        "columns = 3\n",
        "for i in range(3):\n",
        "    plt.subplot(3 / columns + 1, columns, i + 1)\n",
        "    plt.imshow(X[i],cmap=plt.cm.gray_r,interpolation='nearest')\n",
        "\n",
        "j = 0\n",
        "# column = 2\n",
        "for i in range(6000, 6002):\n",
        "    plt.subplot(2 / columns + 1, columns, j + 1)\n",
        "    j = j+1\n",
        "    plt.imshow(X[i],cmap=plt.cm.gray_r,interpolation='nearest')"
      ]
    },
    {
      "cell_type": "markdown",
      "metadata": {
        "id": "HTM5V7Cz4qoH"
      },
      "source": [
        "## Save Dataset as Pickles\n"
      ]
    },
    {
      "cell_type": "code",
      "execution_count": null,
      "metadata": {
        "id": "CJiFVaGc4qoI"
      },
      "outputs": [],
      "source": [
        "#Saves us from having to regenerate our data by saving our data\n",
        "pickle_out = open(\"X.pickle\", \"wb\")\n",
        "pickle.dump(X, pickle_out)\n",
        "pickle_out.close()\n",
        "\n",
        "pickle_out = open(\"y.pickle\", \"wb\")\n",
        "pickle.dump(y, pickle_out)\n",
        "pickle_out.close()\n",
        "\n",
        "pickle_out = open(\"data.pickle\", \"wb\")\n",
        "pickle.dump(data, pickle_out)\n",
        "pickle_out.close()"
      ]
    },
    {
      "cell_type": "markdown",
      "metadata": {
        "id": "ItNfpOqg4qoI"
      },
      "source": [
        "## Load Pickles"
      ]
    },
    {
      "cell_type": "code",
      "source": [
        "%cd /content/drive/MyDrive/data-face-mask/Face-Mask-Dataset"
      ],
      "metadata": {
        "colab": {
          "base_uri": "https://localhost:8080/"
        },
        "id": "1RA6xkm3C1m4",
        "outputId": "1986ec1d-1b8b-4db0-dc68-02aa70a9a9e0"
      },
      "execution_count": null,
      "outputs": [
        {
          "output_type": "stream",
          "name": "stdout",
          "text": [
            "/content/drive/MyDrive/data-face-mask/Face-Mask-Dataset\n"
          ]
        }
      ]
    },
    {
      "cell_type": "code",
      "execution_count": null,
      "metadata": {
        "id": "jhRkOVfB4qoJ"
      },
      "outputs": [],
      "source": [
        "pickle_in = open(\"X.pickle\", \"rb\")\n",
        "X = pickle.load(pickle_in)\n",
        "pickle_in = open(\"y.pickle\", \"rb\")\n",
        "y = pickle.load(pickle_in)\n",
        "pickle_in = open(\"data.pickle\", \"rb\")\n",
        "data = pickle.load(pickle_in)"
      ]
    },
    {
      "cell_type": "markdown",
      "metadata": {
        "id": "jQAkLuFK4qoK"
      },
      "source": [
        "## Total Classification Counts"
      ]
    },
    {
      "cell_type": "code",
      "execution_count": null,
      "metadata": {
        "id": "s17-j4ph4qoK",
        "outputId": "4376fc6d-90f2-4709-c011-a839ff6e2168",
        "colab": {
          "base_uri": "https://localhost:8080/"
        }
      },
      "outputs": [
        {
          "output_type": "stream",
          "name": "stdout",
          "text": [
            "# of Samples: 17836\n",
            "# of Without A Mask: 5909\n",
            "# of Incorrectly Worn Mask: 6044\n",
            "# of With A Mask: 5883\n"
          ]
        }
      ],
      "source": [
        "print('# of Samples:', len(y))\n",
        "print('# of Without A Mask:', (y == 0).sum())\n",
        "print('# of Incorrectly Worn Mask:', (y == 1).sum())\n",
        "print('# of With A Mask:', (y == 2).sum())"
      ]
    },
    {
      "cell_type": "markdown",
      "source": [
        "## Exploratory Data Analysis\n"
      ],
      "metadata": {
        "id": "JmkSv1DjDD4X"
      }
    },
    {
      "cell_type": "code",
      "source": [
        "import pandas as pd"
      ],
      "metadata": {
        "id": "s6x9uw1-DjPf"
      },
      "execution_count": null,
      "outputs": []
    },
    {
      "cell_type": "code",
      "source": [
        "# convert Numpy Array sang Data frame\n",
        "\n",
        "# Get Column Names\n",
        "cols = []\n",
        "for i in range(0, len(data[0])):\n",
        "    cols.append(\"P\" + str(i))\n",
        "\n",
        "# Convert to Dataframe\n",
        "numpy_data = data\n",
        "X = pd.DataFrame(data=numpy_data, columns=[cols])\n",
        "print(X)\n",
        "print(y)"
      ],
      "metadata": {
        "colab": {
          "base_uri": "https://localhost:8080/"
        },
        "id": "GRr6RlHYDDO2",
        "outputId": "8a581e3c-327c-43d5-9221-a1452834585a"
      },
      "execution_count": null,
      "outputs": [
        {
          "output_type": "stream",
          "name": "stdout",
          "text": [
            "        P0   P1   P2   P3   P4   P5  ... P4090 P4091 P4092 P4093 P4094 P4095\n",
            "0      147  148  147  146  146  146  ...   162   147   151   138   155   154\n",
            "1      244  215  196  173  139  141  ...   165   160   168   164   159   146\n",
            "2       90   93   90   93   85   80  ...    99   136    86    35    29    34\n",
            "3       79   79   81   82   81   86  ...   240   241   240   237   232   227\n",
            "4      128  115  107  137  101   88  ...    71    66    78    79    96    74\n",
            "...    ...  ...  ...  ...  ...  ...  ...   ...   ...   ...   ...   ...   ...\n",
            "17831  208  208  209  209  210  210  ...    49    71    77   121   167   171\n",
            "17832  253  254  255  255  255  255  ...    85    63    54    50    45    44\n",
            "17833  183  161   96   88   98  131  ...    57    40    25   172   232   238\n",
            "17834  220  187  118   68   49   42  ...    21    19    15    18    25    28\n",
            "17835   70  130  190   50   19  102  ...   169   163   156   156   156   156\n",
            "\n",
            "[17836 rows x 4096 columns]\n",
            "       Mask_Target\n",
            "0                0\n",
            "1                0\n",
            "2                0\n",
            "3                0\n",
            "4                0\n",
            "...            ...\n",
            "17831            2\n",
            "17832            2\n",
            "17833            2\n",
            "17834            2\n",
            "17835            2\n",
            "\n",
            "[17836 rows x 1 columns]\n"
          ]
        }
      ]
    },
    {
      "cell_type": "code",
      "source": [
        "y = pd.DataFrame(data=y, columns=[\"Mask_Target\"])\n",
        "print(y.head())"
      ],
      "metadata": {
        "colab": {
          "base_uri": "https://localhost:8080/"
        },
        "id": "NoI2175xDDLr",
        "outputId": "b1d3e4f1-aef7-4be9-a92a-6903cea78b3f"
      },
      "execution_count": null,
      "outputs": [
        {
          "output_type": "stream",
          "name": "stdout",
          "text": [
            "   Mask_Target\n",
            "0            0\n",
            "1            0\n",
            "2            0\n",
            "3            0\n",
            "4            0\n"
          ]
        }
      ]
    },
    {
      "cell_type": "code",
      "source": [
        "import numpy as np \n",
        "import pandas as pd \n",
        "import matplotlib.pyplot as plt\n",
        "import matplotlib.patches as mpatches\n",
        "import seaborn as sns\n",
        "from collections import Counter\n",
        "import os\n",
        "\n",
        "import torch\n",
        "from torchvision import datasets,transforms,models\n",
        "from torch.utils.data import Dataset,DataLoader\n",
        "from PIL import Image\n",
        "\n",
        "import sys\n",
        "import torch.optim as optim"
      ],
      "metadata": {
        "id": "JOy_WHehKTjE"
      },
      "execution_count": null,
      "outputs": []
    },
    {
      "cell_type": "code",
      "source": [
        "Items =  ['WithoutMask','IncorrectlyWornMask', 'WithMask']"
      ],
      "metadata": {
        "id": "khKLzUyMLyet"
      },
      "execution_count": null,
      "outputs": []
    },
    {
      "cell_type": "code",
      "source": [
        "values = [(y == 0).sum(), (y == 1).sum(), (y == 2).sum()]"
      ],
      "metadata": {
        "id": "kKI-5lYeKopP"
      },
      "execution_count": null,
      "outputs": []
    },
    {
      "cell_type": "code",
      "source": [
        "print(Items,'\\n',values)"
      ],
      "metadata": {
        "colab": {
          "base_uri": "https://localhost:8080/"
        },
        "id": "jv8uE5IcKolj",
        "outputId": "7d1ecaa0-deaa-48b7-b876-02a531bfab1e"
      },
      "execution_count": null,
      "outputs": [
        {
          "output_type": "stream",
          "name": "stdout",
          "text": [
            "['WithoutMask', 'IncorrectlyWornMask', 'WithMask'] \n",
            " [5909, 6044, 5883]\n"
          ]
        }
      ]
    },
    {
      "cell_type": "code",
      "source": [
        "fig, (ax1, ax2) = plt.subplots(1, 2, figsize =(14,6))\n",
        "background_color = '#faf9f4'\n",
        "ax1.set_facecolor(background_color)\n",
        "ax2.set_facecolor(background_color) \n",
        "ax1.pie(values, wedgeprops=dict(width=0.3, edgecolor='w') ,\n",
        "        labels=Items, radius=1, startangle = 180, autopct='%1.2f%%')\n",
        "\n",
        "ax2 = plt.bar(Items, list(values),\n",
        "              color ='maroon',width = 0.4)\n",
        "   \n",
        "plt.show()"
      ],
      "metadata": {
        "colab": {
          "base_uri": "https://localhost:8080/",
          "height": 374
        },
        "id": "zXNqjFp3KENZ",
        "outputId": "f77e2227-a4d9-4332-a80c-7a1e1fd8483b"
      },
      "execution_count": null,
      "outputs": [
        {
          "output_type": "display_data",
          "data": {
            "image/png": "[encoded data removed]",
            "text/plain": [
              "<Figure size 1008x432 with 2 Axes>"
            ]
          },
          "metadata": {
            "needs_background": "light"
          }
        }
      ]
    },
    {
      "cell_type": "markdown",
      "metadata": {
        "id": "ZHY9ESXf4qoL"
      },
      "source": [
        "## Split Train and Test"
      ]
    },
    {
      "cell_type": "code",
      "execution_count": null,
      "metadata": {
        "id": "hW9A7v7o4qoM",
        "outputId": "6d4dd453-7f16-41c5-b6de-9b22125d4fd4",
        "colab": {
          "base_uri": "https://localhost:8080/"
        }
      },
      "outputs": [
        {
          "output_type": "stream",
          "name": "stdout",
          "text": [
            "Length of our Training data:  14268 \n",
            "Length of our Testing data:  3568\n"
          ]
        }
      ],
      "source": [
        "# Split our data into testing and training.\n",
        "X_train, X_test, y_train, y_test = train_test_split(X, y, test_size=0.2, random_state=45)\n",
        "\n",
        "# Print the length and width of our testing data.\n",
        "print('Length of our Training data: ',len(X_train), '\\nLength of our Testing data: ',len(X_test))"
      ]
    },
    {
      "cell_type": "markdown",
      "source": [
        "# Tạo data Test_bias\n"
      ],
      "metadata": {
        "id": "m4t8cjkKwWUc"
      }
    },
    {
      "cell_type": "code",
      "source": [
        "DIRECTORY_BIAS = \"/content/drive/MyDrive/data-face-mask/Face-Mask-Dataset/Test-bias\" # MacOS\n",
        "\n",
        "CATEGORIES_BIAS = ['WithoutMask','IncorrectlyWornMask', 'WithMask']\n",
        "IMG_SIZE = 64 # IMG_SIZE = 64/4 alternative size"
      ],
      "metadata": {
        "id": "ArZIyRkbwZ6e"
      },
      "execution_count": null,
      "outputs": []
    },
    {
      "cell_type": "code",
      "source": [
        "%cd /content/drive/MyDrive/data-face-mask/Face-Mask-Dataset/"
      ],
      "metadata": {
        "colab": {
          "base_uri": "https://localhost:8080/"
        },
        "id": "msbrOUxq4zDi",
        "outputId": "192052aa-222b-4a39-dc0a-a1be656724a0"
      },
      "execution_count": null,
      "outputs": [
        {
          "output_type": "stream",
          "name": "stdout",
          "text": [
            "/content/drive/MyDrive/data-face-mask/Face-Mask-Dataset\n"
          ]
        }
      ]
    },
    {
      "cell_type": "code",
      "source": [
        "!ls /content/drive/MyDrive/data-face-mask/Face-Mask-Dataset/Test-bias/"
      ],
      "metadata": {
        "colab": {
          "base_uri": "https://localhost:8080/"
        },
        "id": "zwaVxlka40gi",
        "outputId": "cc6f43c8-2df5-4e00-e6ec-7271c0cb098d"
      },
      "execution_count": null,
      "outputs": [
        {
          "output_type": "stream",
          "name": "stdout",
          "text": [
            "IncorrectlyWornMask  WithMask  WithoutMask\n"
          ]
        }
      ]
    },
    {
      "cell_type": "code",
      "source": [
        "#data\n",
        "X_test_bias = []\n",
        "#labels(0,1,2)\n",
        "y_test_bias = []"
      ],
      "metadata": {
        "id": "dHiOhIjiwfdD"
      },
      "execution_count": null,
      "outputs": []
    },
    {
      "cell_type": "code",
      "source": [
        "def create_data_test():\n",
        "    for category in CATEGORIES_BIAS:\n",
        "        path = os.path.join(DIRECTORY_BIAS, category)\n",
        "        class_num_label = CATEGORIES_BIAS.index(category)\n",
        "        for img in os.listdir(path):\n",
        "            try:\n",
        "                img_array = cv2.imread(os.path.join(path,img), cv2.IMREAD_GRAYSCALE)\n",
        "                img_array = cv2.resize(img_array, (64,64), interpolation=cv2.INTER_AREA)\n",
        "                X_test_bias.append(img_array)\n",
        "                y_test_bias.append(class_num_label)\n",
        "            except Exception as e:\n",
        "                pass\n",
        "            \n",
        "create_data_test()"
      ],
      "metadata": {
        "id": "McKc7ag4wfZ9"
      },
      "execution_count": null,
      "outputs": []
    },
    {
      "cell_type": "code",
      "source": [
        "len(y_test_bias)"
      ],
      "metadata": {
        "colab": {
          "base_uri": "https://localhost:8080/"
        },
        "id": "wucz6Nc06L8o",
        "outputId": "ac5c8d69-0637-4890-cf34-1e1b20a78ecc"
      },
      "execution_count": null,
      "outputs": [
        {
          "output_type": "execute_result",
          "data": {
            "text/plain": [
              "509"
            ]
          },
          "metadata": {},
          "execution_count": 9
        }
      ]
    },
    {
      "cell_type": "code",
      "source": [
        "len(X_test_bias)"
      ],
      "metadata": {
        "colab": {
          "base_uri": "https://localhost:8080/"
        },
        "id": "hKY9FeJE-1QL",
        "outputId": "34fa4723-a13c-4872-ce73-92a97580e7f6"
      },
      "execution_count": null,
      "outputs": [
        {
          "output_type": "execute_result",
          "data": {
            "text/plain": [
              "509"
            ]
          },
          "metadata": {},
          "execution_count": 10
        }
      ]
    },
    {
      "cell_type": "code",
      "source": [
        "SAMPLE_SIZE_TEST = len(y_test_bias)\n",
        "data_test = np.array(X_test_bias).flatten().reshape(SAMPLE_SIZE_TEST, IMG_SIZE*IMG_SIZE) # pixel-features\n",
        "\n",
        "# Turn X and y into numpy arrays\n",
        "X_test_bias = np.array(X_test_bias).reshape(-1, IMG_SIZE, IMG_SIZE) # images\n",
        "y_test_bias = np.array(y_test_bias) # target\n",
        "\n",
        "print(\"Features, X_test_bias shape: \", X_test_bias.shape)\n",
        "print(\"Target, y_test_bias shape: \", y_test_bias.shape)\n",
        "print(\"data_test shape: \", data_test.shape)"
      ],
      "metadata": {
        "id": "0S1h4wSkwfW9",
        "colab": {
          "base_uri": "https://localhost:8080/"
        },
        "outputId": "9f911376-348b-4f7e-bc6f-acf6072566ed"
      },
      "execution_count": null,
      "outputs": [
        {
          "output_type": "stream",
          "name": "stdout",
          "text": [
            "Features, X_test_bias shape:  (509, 64, 64)\n",
            "Target, y_test_bias shape:  (509,)\n",
            "data_test shape:  (509, 4096)\n"
          ]
        }
      ]
    },
    {
      "cell_type": "code",
      "source": [
        "import matplotlib.pyplot as plt # to plot inage, graph\n",
        "%matplotlib inline\n",
        "\n",
        "plt.figure(figsize=(20,10))\n",
        "columns = 5\n",
        "for i in range(5):\n",
        "    plt.subplot(5 / columns + 1, columns, i + 1)\n",
        "    plt.imshow(X_test_bias[i],cmap=plt.cm.gray_r,interpolation='nearest')"
      ],
      "metadata": {
        "id": "6fkubipH8wM3",
        "colab": {
          "base_uri": "https://localhost:8080/",
          "height": 202
        },
        "outputId": "4ea16390-3e5f-49d3-cb35-d652a98314b3"
      },
      "execution_count": null,
      "outputs": [
        {
          "output_type": "display_data",
          "data": {
            "image/png": "[encoded data removed]",
            "text/plain": [
              "<Figure size 1440x720 with 5 Axes>"
            ]
          },
          "metadata": {
            "needs_background": "light"
          }
        }
      ]
    },
    {
      "cell_type": "code",
      "source": [
        "%cd /content/drive/MyDrive/data-face-mask/Face-Mask-Dataset"
      ],
      "metadata": {
        "id": "Lr6hHsjx8wHL",
        "colab": {
          "base_uri": "https://localhost:8080/"
        },
        "outputId": "91ae3305-5d80-4bd7-c76b-4bb716b619cc"
      },
      "execution_count": null,
      "outputs": [
        {
          "output_type": "stream",
          "name": "stdout",
          "text": [
            "/content/drive/MyDrive/data-face-mask/Face-Mask-Dataset\n"
          ]
        }
      ]
    },
    {
      "cell_type": "code",
      "source": [
        "#Saves us from having to regenerate our data by saving our data\n",
        "pickle_out = open(\"X_test_bias.pickle\", \"wb\")\n",
        "pickle.dump(X_test_bias, pickle_out)\n",
        "pickle_out.close()\n",
        "\n",
        "pickle_out = open(\"y_test_bias.pickle\", \"wb\")\n",
        "pickle.dump(y_test_bias, pickle_out)\n",
        "pickle_out.close()\n",
        "\n",
        "pickle_out = open(\"data_test.pickle\", \"wb\")\n",
        "pickle.dump(data_test, pickle_out)\n",
        "pickle_out.close()"
      ],
      "metadata": {
        "id": "6UI2uJV1jaUH"
      },
      "execution_count": null,
      "outputs": []
    },
    {
      "cell_type": "code",
      "source": [
        "pickle_in = open(\"X_test_bias.pickle\", \"rb\")\n",
        "X_test_bias = pickle.load(pickle_in)\n",
        "pickle_in = open(\"y_test_bias.pickle\", \"rb\")\n",
        "y_test_bias = pickle.load(pickle_in)\n",
        "pickle_in = open(\"data_test.pickle\", \"rb\")\n",
        "data_test = pickle.load(pickle_in)"
      ],
      "metadata": {
        "id": "pyDIPWpu8wKA"
      },
      "execution_count": null,
      "outputs": []
    },
    {
      "cell_type": "code",
      "source": [
        "print('# of Samples:', len(y_test_bias))\n",
        "print('# of Without A Mask:', (y_test_bias == 0).sum())\n",
        "print('# of Incorrectly Worn Mask:', (y_test_bias == 1).sum())\n",
        "print('# of With A Mask:', (y_test_bias == 2).sum())"
      ],
      "metadata": {
        "id": "e0hVnOCI8wEb",
        "colab": {
          "base_uri": "https://localhost:8080/"
        },
        "outputId": "3201d1db-5993-4830-f411-a458da817c56"
      },
      "execution_count": null,
      "outputs": [
        {
          "output_type": "stream",
          "name": "stdout",
          "text": [
            "# of Samples: 509\n",
            "# of Without A Mask: 152\n",
            "# of Incorrectly Worn Mask: 144\n",
            "# of With A Mask: 213\n"
          ]
        }
      ]
    }
  ],
  "metadata": {
    "kernelspec": {
      "display_name": "Python 3",
      "language": "python",
      "name": "python3"
    },
    "language_info": {
      "codemirror_mode": {
        "name": "ipython",
        "version": 3
      },
      "file_extension": ".py",
      "mimetype": "text/x-python",
      "name": "python",
      "nbconvert_exporter": "python",
      "pygments_lexer": "ipython3",
      "version": "3.8.3"
    },
    "colab": {
      "name": "Data_Preprocessing.ipynb",
      "provenance": [],
      "collapsed_sections": [
        "ZHY9ESXf4qoL",
        "m4t8cjkKwWUc"
      ],
      "toc_visible": true
    }
  },
  "nbformat": 4,
  "nbformat_minor": 0
}