{
  "cells": [
    {
      "cell_type": "markdown",
      "metadata": {
        "id": "jpiy9Gvl-6Cx"
      },
      "source": [
        "## CNN Classifier (Mask, No Mask, Incorrectly wearing Mask)"
      ]
    },
    {
      "cell_type": "code",
      "execution_count": null,
      "metadata": {
        "colab": {
          "base_uri": "https://localhost:8080/"
        },
        "id": "bcQ4veZpmwzR",
        "outputId": "835f81fe-42c0-4812-97e5-25a8fa5ac50b"
      },
      "outputs": [
        {
          "name": "stdout",
          "output_type": "stream",
          "text": [
            "Mounted at /content/drive\n"
          ]
        }
      ],
      "source": [
        "from google.colab import drive\n",
        "drive.mount('/content/drive')"
      ]
    },
    {
      "cell_type": "markdown",
      "metadata": {
        "id": "8qbvfJ_S_MR7"
      },
      "source": [
        "### Import Packages"
      ]
    },
    {
      "cell_type": "code",
      "execution_count": null,
      "metadata": {
        "id": "qCfhYWYDT2z6"
      },
      "outputs": [],
      "source": [
        "# Import Libraries \n",
        "import numpy as np\n",
        "import matplotlib.pyplot as plt\n",
        "\n",
        "import tensorflow\n",
        "import sklearn\n",
        "from sklearn.model_selection import train_test_split\n",
        "import cv2\n",
        "\n",
        "import seaborn as sns\n",
        "import pickle\n",
        "import os"
      ]
    },
    {
      "cell_type": "markdown",
      "metadata": {
        "id": "rg1oz2jV93sK"
      },
      "source": [
        "### Load in the dataset that was preprocessed from local directory"
      ]
    },
    {
      "cell_type": "code",
      "execution_count": null,
      "metadata": {
        "id": "GdZWFDrtZJy7"
      },
      "outputs": [],
      "source": [
        "# Load in the files from Google Drive \n",
        "\n",
        "filename = '/content/drive/MyDrive/data-face-mask/Face-Mask-Dataset/X.pickle'\n",
        "pickle_in = open(filename, 'rb')\n",
        "X = pickle.load(pickle_in)\n",
        "\n",
        "filename = '/content/drive/MyDrive/data-face-mask/Face-Mask-Dataset/y.pickle'\n",
        "pickle_in = open(filename, 'rb')\n",
        "y = pickle.load(pickle_in)\n",
        "\n",
        "CATEGORIES = ['Without Mask', 'Incorrectly Wearing Mask', 'Wearing Mask']"
      ]
    },
    {
      "cell_type": "code",
      "execution_count": null,
      "metadata": {
        "colab": {
          "base_uri": "https://localhost:8080/"
        },
        "id": "dIsabxBQaxwn",
        "outputId": "10721d19-a5c1-4e2c-c429-21fb59beb212"
      },
      "outputs": [
        {
          "name": "stdout",
          "output_type": "stream",
          "text": [
            "Type of X: <class 'numpy.ndarray'>\n",
            "Type of y: <class 'numpy.ndarray'>\n"
          ]
        }
      ],
      "source": [
        "# double check to see the types of the loaded files\n",
        "print('Type of X:', type(X))\n",
        "print('Type of y:', type(y))"
      ]
    },
    {
      "cell_type": "code",
      "execution_count": null,
      "metadata": {
        "colab": {
          "base_uri": "https://localhost:8080/"
        },
        "id": "e-_uuqKJjNXs",
        "outputId": "b366704e-900b-498c-8ca0-b8fbfbf6fd94"
      },
      "outputs": [
        {
          "name": "stdout",
          "output_type": "stream",
          "text": [
            "Shape of X: (17836, 64, 64)\n",
            "Shape of y: (17836,)\n"
          ]
        }
      ],
      "source": [
        "print('Shape of X:', X.shape)\n",
        "print('Shape of y:', y.shape)"
      ]
    },
    {
      "cell_type": "code",
      "execution_count": null,
      "metadata": {
        "colab": {
          "base_uri": "https://localhost:8080/"
        },
        "id": "mOQ9lDgKa9ce",
        "outputId": "94b720d7-eabb-48a1-9577-5846867ecb42"
      },
      "outputs": [
        {
          "name": "stdout",
          "output_type": "stream",
          "text": [
            "X:\n",
            "[[134 134 136 ...  29  31  23]\n",
            " [121 119 109 ...  25  25  22]\n",
            " [ 93  95 103 ...  33  23  21]\n",
            " ...\n",
            " [113  94 103 ...  40  41  55]\n",
            " [110  88  92 ...  44  52  67]\n",
            " [ 97  90 101 ...  49  58  70]]\n",
            "y:\n",
            "0\n"
          ]
        }
      ],
      "source": [
        "# print one example of dataset\n",
        "print('X:')\n",
        "print(X[13])\n",
        "print('y:')\n",
        "print(y[13])"
      ]
    },
    {
      "cell_type": "code",
      "execution_count": null,
      "metadata": {
        "colab": {
          "base_uri": "https://localhost:8080/",
          "height": 300
        },
        "id": "weVpXB2GFOgh",
        "outputId": "e0577d70-95c8-47b1-b5b5-67b4821fab06"
      },
      "outputs": [
        {
          "name": "stdout",
          "output_type": "stream",
          "text": [
            "\n"
          ]
        },
        {
          "data": {
            "image/png": "[encoded data removed]",
            "text/plain": [
              "<Figure size 432x288 with 1 Axes>"
            ]
          },
          "metadata": {},
          "output_type": "display_data"
        }
      ],
      "source": [
        "# Display the one example\n",
        "plt.imshow(X[10], cmap='gray')\n",
        "plt.title(CATEGORIES[y[10]], color='white')\n",
        "print('')"
      ]
    },
    {
      "cell_type": "markdown",
      "metadata": {
        "id": "ktzFJvIRGQJz"
      },
      "source": [
        "#### EDA"
      ]
    },
    {
      "cell_type": "code",
      "execution_count": null,
      "metadata": {
        "id": "bvnLTGU2GPgP"
      },
      "outputs": [],
      "source": [
        "resized_X = []\n",
        "for img in X:\n",
        "    resized_X.append(cv2.resize(img, (64, 64)))"
      ]
    },
    {
      "cell_type": "code",
      "execution_count": null,
      "metadata": {
        "colab": {
          "base_uri": "https://localhost:8080/"
        },
        "id": "Eqzux7kAGWIX",
        "outputId": "b9b339a0-24a6-49a3-fe65-378dcbde9cf5"
      },
      "outputs": [
        {
          "name": "stdout",
          "output_type": "stream",
          "text": [
            "(17836, 64, 64, 1)\n"
          ]
        }
      ],
      "source": [
        "X = np.asarray(resized_X)\n",
        "X = X.reshape(-1, 64, 64, 1)\n",
        "print(X.shape)"
      ]
    },
    {
      "cell_type": "code",
      "execution_count": null,
      "metadata": {
        "id": "pK2mqK2XbgS4"
      },
      "outputs": [],
      "source": [
        "X = X / 255.0"
      ]
    },
    {
      "cell_type": "code",
      "execution_count": null,
      "metadata": {
        "colab": {
          "base_uri": "https://localhost:8080/"
        },
        "id": "SScCCjmIGmQj",
        "outputId": "776b0566-ee5c-46a7-fcc3-e43221283206"
      },
      "outputs": [
        {
          "name": "stdout",
          "output_type": "stream",
          "text": [
            "IMG_DIM: 64\n"
          ]
        }
      ],
      "source": [
        "IMG_DIM = X.shape[1]\n",
        "print('IMG_DIM:',IMG_DIM)"
      ]
    },
    {
      "cell_type": "code",
      "execution_count": null,
      "metadata": {
        "id": "s13FHAbgG1sj"
      },
      "outputs": [],
      "source": [
        "# Split dataset into Training and Testing\n",
        "X_train, X_test, y_train, y_test = train_test_split(X, y, test_size=0.2)"
      ]
    },
    {
      "cell_type": "code",
      "execution_count": null,
      "metadata": {
        "colab": {
          "base_uri": "https://localhost:8080/"
        },
        "id": "ipm0aO5lJbCL",
        "outputId": "69170c12-239b-438a-c33e-0d962cb1bf4d"
      },
      "outputs": [
        {
          "name": "stdout",
          "output_type": "stream",
          "text": [
            "Training Size: 14268\n",
            "Testing  Size: 3568\n"
          ]
        }
      ],
      "source": [
        "print('Training Size:', len(X_train))\n",
        "print('Testing  Size:', len(X_test))"
      ]
    },
    {
      "cell_type": "markdown",
      "metadata": {
        "id": "6q0JzNt3GmqB"
      },
      "source": [
        "#### Building and fitting the CNN Model "
      ]
    },
    {
      "cell_type": "code",
      "execution_count": null,
      "metadata": {
        "id": "jmlMbhIgG3i4"
      },
      "outputs": [],
      "source": [
        "cnn_model = tensorflow.keras.models.Sequential()"
      ]
    },
    {
      "cell_type": "code",
      "execution_count": null,
      "metadata": {
        "id": "JCbnzA1dHAYa"
      },
      "outputs": [],
      "source": [
        "# Start of Convolution Layers & Maxpooling\n",
        "cnn_model.add(tensorflow.keras.layers.Conv2D(filters=64, kernel_size=3, activation='relu', input_shape=(IMG_DIM, IMG_DIM, 1)))\n",
        "cnn_model.add(tensorflow.keras.layers.Conv2D(filters=64, kernel_size=3, activation='relu'))\n",
        "cnn_model.add(tensorflow.keras.layers.MaxPool2D())\n",
        "\n",
        "cnn_model.add(tensorflow.keras.layers.Conv2D(filters=64, kernel_size=3, activation='relu'))\n",
        "cnn_model.add(tensorflow.keras.layers.Conv2D(filters=64, kernel_size=3, activation='relu'))\n",
        "cnn_model.add(tensorflow.keras.layers.MaxPool2D())\n",
        "\n",
        "cnn_model.add(tensorflow.keras.layers.Conv2D(filters=64, kernel_size=3, activation='relu', input_shape=(IMG_DIM, IMG_DIM, 1)))\n",
        "cnn_model.add(tensorflow.keras.layers.Conv2D(filters=64, kernel_size=3, activation='relu'))\n",
        "cnn_model.add(tensorflow.keras.layers.MaxPool2D())\n",
        "\n",
        "# Start of Neural Nets\n",
        "cnn_model.add(tensorflow.keras.layers.Flatten())\n",
        "\n",
        "cnn_model.add(tensorflow.keras.layers.Dense(512, activation='relu'))\n",
        "cnn_model.add(tensorflow.keras.layers.Dropout(0.3))\n",
        "cnn_model.add(tensorflow.keras.layers.Dense(512, activation='relu'))\n",
        "cnn_model.add(tensorflow.keras.layers.Dropout(0.3))\n",
        "cnn_model.add(tensorflow.keras.layers.Dense(256, activation='relu'))\n",
        "cnn_model.add(tensorflow.keras.layers.Dense(128, activation='relu'))\n",
        "cnn_model.add(tensorflow.keras.layers.Dense(3, activation='softmax'))"
      ]
    },
    {
      "cell_type": "code",
      "execution_count": null,
      "metadata": {
        "colab": {
          "base_uri": "https://localhost:8080/"
        },
        "id": "vQkdPxKdHD0F",
        "outputId": "11c97337-c65d-47e9-c7f8-2960870d7cde"
      },
      "outputs": [
        {
          "name": "stdout",
          "output_type": "stream",
          "text": [
            "Model: \"sequential\"\n",
            "_________________________________________________________________\n",
            " Layer (type)                Output Shape              Param #   \n",
            "=================================================================\n",
            " conv2d (Conv2D)             (None, 62, 62, 64)        640       \n",
            "                                                                 \n",
            " conv2d_1 (Conv2D)           (None, 60, 60, 64)        36928     \n",
            "                                                                 \n",
            " max_pooling2d (MaxPooling2D  (None, 30, 30, 64)       0         \n",
            " )                                                               \n",
            "                                                                 \n",
            " conv2d_2 (Conv2D)           (None, 28, 28, 64)        36928     \n",
            "                                                                 \n",
            " conv2d_3 (Conv2D)           (None, 26, 26, 64)        36928     \n",
            "                                                                 \n",
            " max_pooling2d_1 (MaxPooling  (None, 13, 13, 64)       0         \n",
            " 2D)                                                             \n",
            "                                                                 \n",
            " conv2d_4 (Conv2D)           (None, 11, 11, 64)        36928     \n",
            "                                                                 \n",
            " conv2d_5 (Conv2D)           (None, 9, 9, 64)          36928     \n",
            "                                                                 \n",
            " max_pooling2d_2 (MaxPooling  (None, 4, 4, 64)         0         \n",
            " 2D)                                                             \n",
            "                                                                 \n",
            " flatten (Flatten)           (None, 1024)              0         \n",
            "                                                                 \n",
            " dense (Dense)               (None, 512)               524800    \n",
            "                                                                 \n",
            " dropout (Dropout)           (None, 512)               0         \n",
            "                                                                 \n",
            " dense_1 (Dense)             (None, 512)               262656    \n",
            "                                                                 \n",
            " dropout_1 (Dropout)         (None, 512)               0         \n",
            "                                                                 \n",
            " dense_2 (Dense)             (None, 256)               131328    \n",
            "                                                                 \n",
            " dense_3 (Dense)             (None, 128)               32896     \n",
            "                                                                 \n",
            " dense_4 (Dense)             (None, 3)                 387       \n",
            "                                                                 \n",
            "=================================================================\n",
            "Total params: 1,137,347\n",
            "Trainable params: 1,137,347\n",
            "Non-trainable params: 0\n",
            "_________________________________________________________________\n"
          ]
        }
      ],
      "source": [
        "cnn_model.summary()"
      ]
    },
    {
      "cell_type": "code",
      "execution_count": null,
      "metadata": {
        "id": "OHpoSlZVHKc8"
      },
      "outputs": [],
      "source": [
        "# Compile the Model\n",
        "cnn_model.compile(optimizer=tensorflow.keras.optimizers.Adam(), loss='sparse_categorical_crossentropy', metrics=['acc'])"
      ]
    },
    {
      "cell_type": "code",
      "execution_count": null,
      "metadata": {
        "colab": {
          "background_save": true,
          "base_uri": "https://localhost:8080/"
        },
        "id": "-vypBIABHMNl",
        "outputId": "abbfb593-2cd5-45a1-ed35-f523a073a2bf"
      },
      "outputs": [
        {
          "name": "stdout",
          "output_type": "stream",
          "text": [
            "Epoch 1/10\n",
            "402/402 [==============================] - 408s 1s/step - loss: 0.3303 - acc: 0.8495 - val_loss: 0.0948 - val_acc: 0.9692\n",
            "Epoch 2/10\n",
            "402/402 [==============================] - 406s 1s/step - loss: 0.0938 - acc: 0.9678 - val_loss: 0.0639 - val_acc: 0.9797\n",
            "Epoch 3/10\n",
            "402/402 [==============================] - 407s 1s/step - loss: 0.0638 - acc: 0.9777 - val_loss: 0.0514 - val_acc: 0.9804\n",
            "Epoch 4/10\n",
            "402/402 [==============================] - 407s 1s/step - loss: 0.0486 - acc: 0.9847 - val_loss: 0.0494 - val_acc: 0.9832\n",
            "Epoch 5/10\n",
            "402/402 [==============================] - 406s 1s/step - loss: 0.0452 - acc: 0.9854 - val_loss: 0.0387 - val_acc: 0.9881\n",
            "Epoch 6/10\n",
            "402/402 [==============================] - 406s 1s/step - loss: 0.0436 - acc: 0.9861 - val_loss: 0.0349 - val_acc: 0.9881\n",
            "Epoch 7/10\n",
            "402/402 [==============================] - 404s 1s/step - loss: 0.0325 - acc: 0.9895 - val_loss: 0.0588 - val_acc: 0.9881\n",
            "Epoch 8/10\n",
            "402/402 [==============================] - 405s 1s/step - loss: 0.0274 - acc: 0.9897 - val_loss: 0.0676 - val_acc: 0.9874\n",
            "Epoch 9/10\n",
            "357/402 [=========================>....] - ETA: 44s - loss: 0.0260 - acc: 0.9911"
          ]
        }
      ],
      "source": [
        "# Train Model\n",
        "epochs = 10\n",
        "cnn_model.fit(X_train, y_train, epochs=epochs, validation_split=0.1)"
      ]
    },
    {
      "cell_type": "markdown",
      "metadata": {
        "id": "Bu67aEqUHrjq"
      },
      "source": [
        "#### Evalute Performance"
      ]
    },
    {
      "cell_type": "code",
      "execution_count": null,
      "metadata": {
        "colab": {
          "base_uri": "https://localhost:8080/"
        },
        "id": "JVTqv1ENHNvL",
        "outputId": "4ca8e776-bb34-4942-f738-eddeed539766"
      },
      "outputs": [
        {
          "name": "stdout",
          "output_type": "stream",
          "text": [
            "112/112 [==============================] - 2s 14ms/step - loss: 0.0516 - acc: 0.9863\n"
          ]
        },
        {
          "data": {
            "text/plain": [
              "[0.051584381610155106, 0.9862667918205261]"
            ]
          },
          "execution_count": 18,
          "metadata": {},
          "output_type": "execute_result"
        }
      ],
      "source": [
        "# Evaluate performance\n",
        "cnn_model.evaluate(X_test, y_test)"
      ]
    },
    {
      "cell_type": "code",
      "execution_count": null,
      "metadata": {
        "id": "_meFAampHuay"
      },
      "outputs": [],
      "source": [
        "y_pred = np.argmax(cnn_model.predict(X_test), axis=-1)"
      ]
    },
    {
      "cell_type": "code",
      "execution_count": null,
      "metadata": {
        "colab": {
          "base_uri": "https://localhost:8080/",
          "height": 710
        },
        "id": "LyfAXslHHz9X",
        "outputId": "7ada7c69-b406-48fc-c5c2-ec49ce67c8e8"
      },
      "outputs": [
        {
          "name": "stdout",
          "output_type": "stream",
          "text": [
            "              precision    recall  f1-score   support\n",
            "\n",
            "           0       0.98      0.99      0.98      1195\n",
            "           1       0.99      1.00      1.00      1184\n",
            "           2       0.99      0.97      0.98      1189\n",
            "\n",
            "    accuracy                           0.99      3568\n",
            "   macro avg       0.99      0.99      0.99      3568\n",
            "weighted avg       0.99      0.99      0.99      3568\n",
            "\n"
          ]
        },
        {
          "data": {
            "image/png": "[encoded data removed]",
            "text/plain": [
              "<Figure size 648x648 with 2 Axes>"
            ]
          },
          "metadata": {},
          "output_type": "display_data"
        }
      ],
      "source": [
        "cm = sklearn.metrics.confusion_matrix(y_test, y_pred)\n",
        "\n",
        "plt.figure(figsize=(9, 9))\n",
        "sns.heatmap(cm, annot=True, fmt='.0f', square=True, linewidths=.5, cmap='Blues_r')\n",
        "plt.ylabel('Actual Label')\n",
        "plt.xlabel('Predicted Label')\n",
        "\n",
        "print(sklearn.metrics.classification_report(y_test, y_pred))"
      ]
    },
    {
      "cell_type": "markdown",
      "metadata": {
        "id": "47jJyhTtHkud"
      },
      "source": [
        "#### Save model for future use"
      ]
    },
    {
      "cell_type": "code",
      "execution_count": null,
      "metadata": {
        "colab": {
          "base_uri": "https://localhost:8080/"
        },
        "id": "1_CCuP0mIHvZ",
        "outputId": "ec02d075-a984-4b0b-8fcd-1f344290087c"
      },
      "outputs": [
        {
          "name": "stdout",
          "output_type": "stream",
          "text": [
            "INFO:tensorflow:Assets written to: /content/drive/MyDrive/data-face-mask/Face-Mask-Dataset/pretrain-model/cnn/assets\n"
          ]
        }
      ],
      "source": [
        "path = '/content/drive/MyDrive/data-face-mask/Face-Mask-Dataset/pretrain-model/cnn'\n",
        "cnn_model.save(path)"
      ]
    },
    {
      "cell_type": "markdown",
      "metadata": {
        "id": "dl_7hikskDjq"
      },
      "source": [
        "## Testing Model Bias \n",
        "\n",
        "Một bộ dữ liệu bên ngoài sẽ được dùng để kiểm tra và sử dụng làm dữ liệu kiểm tra cho mô hình.\n",
        "- Test_bias (TB) dataset\n"
      ]
    },
    {
      "cell_type": "code",
      "execution_count": null,
      "metadata": {
        "id": "ALDN9k5Vpo6i"
      },
      "outputs": [],
      "source": [
        "path = '/content/drive/MyDrive/data-face-mask/Face-Mask-Dataset/pretrain-model/cnn'"
      ]
    },
    {
      "cell_type": "code",
      "execution_count": null,
      "metadata": {
        "id": "S_G7reEYpTvt"
      },
      "outputs": [],
      "source": [
        "# To load\n",
        "model = tensorflow.keras.models.load_model(path)"
      ]
    },
    {
      "cell_type": "code",
      "execution_count": null,
      "metadata": {
        "colab": {
          "base_uri": "https://localhost:8080/"
        },
        "id": "uXDkB34Epx1j",
        "outputId": "5d2c22f0-02a7-4bf2-cb92-147ce7eac05d"
      },
      "outputs": [
        {
          "name": "stdout",
          "output_type": "stream",
          "text": [
            "/content/drive/MyDrive/data-face-mask/Face-Mask-Dataset\n"
          ]
        }
      ],
      "source": [
        "%cd /content/drive/MyDrive/data-face-mask/Face-Mask-Dataset"
      ]
    },
    {
      "cell_type": "code",
      "execution_count": null,
      "metadata": {
        "colab": {
          "base_uri": "https://localhost:8080/"
        },
        "id": "ZaaQy49lkDJI",
        "outputId": "f69266f9-c5fe-4205-c5f3-944b3e392553"
      },
      "outputs": [
        {
          "name": "stdout",
          "output_type": "stream",
          "text": [
            "Features, TB_X shape:  (509, 64, 64)\n",
            "Target, TB_y shape:  (509,)\n"
          ]
        }
      ],
      "source": [
        "# Load TB datasets\n",
        "pickle_in = open(\"X_test_bias.pickle\", \"rb\")\n",
        "TB_X = pickle.load(pickle_in)\n",
        "pickle_in = open(\"y_test_bias.pickle\", \"rb\")\n",
        "TB_y = pickle.load(pickle_in)\n",
        "\n",
        "# TB target and feature set shape\n",
        "print(\"Features, TB_X shape: \", TB_X.shape)\n",
        "print(\"Target, TB_y shape: \", TB_y.shape)\n",
        "\n",
        "# Normalize the pixel values\n",
        "TB_X = TB_X / 255.0"
      ]
    },
    {
      "cell_type": "code",
      "execution_count": null,
      "metadata": {
        "id": "KzsTOtMeqVPK"
      },
      "outputs": [],
      "source": [
        "resized_X_test_bias = []\n",
        "for img in TB_X:\n",
        "    resized_X_test_bias.append(cv2.resize(img, (64, 64)))"
      ]
    },
    {
      "cell_type": "code",
      "execution_count": null,
      "metadata": {
        "colab": {
          "base_uri": "https://localhost:8080/"
        },
        "id": "SuIXSiEQqjGP",
        "outputId": "6e2c5349-d23d-4b2c-ed32-179104e8b43f"
      },
      "outputs": [
        {
          "name": "stdout",
          "output_type": "stream",
          "text": [
            "(509, 64, 64, 1)\n"
          ]
        }
      ],
      "source": [
        "TB_X = np.asarray(resized_X_test_bias)\n",
        "TB_X = TB_X.reshape(-1, 64, 64, 1)\n",
        "print(TB_X.shape)"
      ]
    },
    {
      "cell_type": "code",
      "execution_count": null,
      "metadata": {
        "colab": {
          "base_uri": "https://localhost:8080/"
        },
        "id": "m79c1kHZqjBG",
        "outputId": "c05424e0-0b8a-4733-f4c6-0f0c0d781505"
      },
      "outputs": [
        {
          "name": "stdout",
          "output_type": "stream",
          "text": [
            "IMG_DIM: 64\n"
          ]
        }
      ],
      "source": [
        "IMG_DIM = TB_X.shape[1]\n",
        "print('IMG_DIM:',IMG_DIM)"
      ]
    },
    {
      "cell_type": "code",
      "execution_count": null,
      "metadata": {
        "id": "QbBhLyXjkDAU"
      },
      "outputs": [],
      "source": [
        "y_pred_tb = np.argmax(cnn_model.predict(TB_X), axis=-1)"
      ]
    },
    {
      "cell_type": "code",
      "execution_count": null,
      "metadata": {
        "colab": {
          "base_uri": "https://localhost:8080/"
        },
        "id": "ejtTwPTMaV0C",
        "outputId": "cf94949c-7c56-402d-af5c-da2cda9aab38"
      },
      "outputs": [
        {
          "data": {
            "text/plain": [
              "array([1, 2, 1, 2, 2, 2, 2, 1, 2, 2, 0, 2, 2, 1, 2, 2, 0, 1, 2, 2, 1, 2,\n",
              "       1, 1, 1, 0, 0, 2, 1, 2, 2, 2, 1, 2, 2, 1, 2, 1, 0, 2, 2, 2, 0, 2,\n",
              "       2, 1, 2, 2, 2, 1, 2, 1, 0, 1, 1, 1, 2, 2, 1, 2, 2, 2, 2, 2, 2, 2,\n",
              "       1, 2, 2, 2, 2, 2, 1, 1, 1, 2, 1, 1, 1, 0, 2, 2, 2, 2, 2, 2, 2, 2,\n",
              "       2, 1, 2, 2, 2, 2, 2, 2, 2, 2, 2, 2, 2, 1, 2, 0, 0, 1, 2, 1, 1, 1,\n",
              "       2, 1, 1, 1, 2, 0, 1, 1, 2, 0, 1, 0, 2, 2, 1, 1, 2, 1, 2, 2, 2, 2,\n",
              "       2, 2, 1, 2, 2, 2, 0, 1, 2, 0, 2, 2, 0, 2, 2, 0, 2, 2, 2, 2, 2, 2,\n",
              "       2, 2, 2, 2, 0, 2, 2, 2, 2, 0, 2, 2, 2, 2, 2, 2, 2, 2, 2, 2, 2, 2,\n",
              "       2, 0, 0, 2, 2, 1, 2, 2, 2, 2, 2, 1, 2, 1, 2, 2, 1, 1, 0, 2, 2, 0,\n",
              "       2, 1, 2, 2, 2, 2, 2, 1, 2, 2, 1, 2, 2, 2, 2, 1, 2, 2, 2, 1, 2, 2,\n",
              "       2, 0, 2, 2, 2, 2, 1, 2, 2, 2, 2, 2, 0, 2, 1, 2, 2, 2, 2, 2, 2, 2,\n",
              "       2, 2, 2, 0, 1, 0, 2, 2, 2, 2, 2, 2, 2, 2, 2, 1, 2, 2, 1, 2, 2, 2,\n",
              "       2, 2, 1, 1, 0, 2, 2, 2, 2, 2, 2, 1, 2, 2, 2, 2, 0, 2, 2, 0, 2, 2,\n",
              "       2, 2, 2, 2, 2, 2, 2, 2, 2, 2, 2, 2, 2, 2, 2, 2, 2, 2, 2, 2, 2, 2,\n",
              "       2, 2, 2, 2, 2, 2, 0, 2, 2, 2, 2, 2, 2, 2, 2, 2, 2, 2, 2, 2, 2, 2,\n",
              "       2, 2, 2, 2, 2, 2, 2, 2, 2, 2, 2, 2, 2, 2, 2, 2, 2, 2, 2, 2, 2, 2,\n",
              "       2, 2, 2, 0, 2, 2, 2, 0, 2, 2, 2, 2, 2, 2, 2, 2, 2, 2, 2, 2, 2, 2,\n",
              "       2, 2, 2, 1, 2, 2, 2, 2, 2, 2, 2, 2, 2, 2, 2, 2, 2, 1, 2, 2, 2, 2,\n",
              "       2, 2, 2, 2, 2, 2, 2, 2, 2, 2, 2, 2, 2, 2, 2, 2, 2, 2, 2, 2, 2, 2,\n",
              "       2, 2, 2, 2, 2, 2, 2, 2, 2, 2, 2, 2, 2, 2, 2, 2, 2, 2, 2, 2, 2, 2,\n",
              "       2, 2, 2, 2, 2, 2, 2, 2, 2, 2, 2, 2, 1, 2, 2, 2, 2, 2, 1, 2, 2, 2,\n",
              "       2, 2, 2, 2, 2, 2, 2, 2, 2, 2, 2, 2, 1, 2, 2, 1, 2, 2, 2, 2, 2, 2,\n",
              "       2, 2, 2, 2, 2, 2, 2, 1, 2, 2, 2, 2, 2, 2, 2, 2, 2, 2, 2, 2, 2, 2,\n",
              "       2, 2, 0])"
            ]
          },
          "execution_count": 96,
          "metadata": {},
          "output_type": "execute_result"
        }
      ],
      "source": [
        "y_pred_tb"
      ]
    },
    {
      "cell_type": "code",
      "execution_count": null,
      "metadata": {
        "colab": {
          "base_uri": "https://localhost:8080/"
        },
        "id": "MRljN11Crhon",
        "outputId": "a3b14991-de8c-49ae-dd21-44f13c095e2e"
      },
      "outputs": [
        {
          "name": "stdout",
          "output_type": "stream",
          "text": [
            "16/16 [==============================] - 0s 16ms/step - loss: 5.1059 - acc: 0.4656\n"
          ]
        },
        {
          "data": {
            "text/plain": [
              "[5.105922222137451, 0.4656188488006592]"
            ]
          },
          "execution_count": 94,
          "metadata": {},
          "output_type": "execute_result"
        }
      ],
      "source": [
        "model.evaluate(TB_X, TB_y)"
      ]
    },
    {
      "cell_type": "code",
      "execution_count": null,
      "metadata": {
        "colab": {
          "base_uri": "https://localhost:8080/",
          "height": 704
        },
        "id": "bmfP14DpoPvg",
        "outputId": "f5a621a8-b9b5-4844-e44f-de7d7bb26fcf"
      },
      "outputs": [
        {
          "name": "stdout",
          "output_type": "stream",
          "text": [
            "              precision    recall  f1-score   support\n",
            "\n",
            "           0       0.50      0.11      0.18       152\n",
            "           1       0.26      0.12      0.17       144\n",
            "           2       0.50      0.95      0.65       213\n",
            "\n",
            "    accuracy                           0.47       509\n",
            "   macro avg       0.42      0.40      0.33       509\n",
            "weighted avg       0.43      0.47      0.38       509\n",
            "\n"
          ]
        },
        {
          "data": {
            "image/png": "[encoded data removed]",
            "text/plain": [
              "<Figure size 648x648 with 2 Axes>"
            ]
          },
          "metadata": {},
          "output_type": "display_data"
        }
      ],
      "source": [
        "cm = sklearn.metrics.confusion_matrix(TB_y, y_pred_tb)\n",
        "\n",
        "plt.figure(figsize=(9, 9))\n",
        "sns.heatmap(cm, annot=True, fmt='.0f', square=True, linewidths=.5, cmap='Blues_r')\n",
        "plt.ylabel('Actual Label')\n",
        "plt.xlabel('Predicted Label')\n",
        "\n",
        "print(sklearn.metrics.classification_report(TB_y, y_pred_tb))"
      ]
    },
    {
      "cell_type": "markdown",
      "metadata": {
        "id": "4SmO1yieQEJh"
      },
      "source": [
        "## DEMO\n"
      ]
    },
    {
      "cell_type": "code",
      "execution_count": null,
      "metadata": {
        "colab": {
          "base_uri": "https://localhost:8080/"
        },
        "id": "djItcjykYVIH",
        "outputId": "11cd5fcf-d855-4c3f-f016-a238cba5814d"
      },
      "outputs": [
        {
          "name": "stdout",
          "output_type": "stream",
          "text": [
            "/content\n"
          ]
        }
      ],
      "source": [
        "%cd /content/"
      ]
    },
    {
      "cell_type": "code",
      "execution_count": null,
      "metadata": {
        "colab": {
          "base_uri": "https://localhost:8080/"
        },
        "id": "Yq3Rf0SzXn1P",
        "outputId": "715006c7-9efb-4016-8501-5b9d0cdb6916"
      },
      "outputs": [
        {
          "name": "stdout",
          "output_type": "stream",
          "text": [
            "Downloading...\n",
            "From: https://drive.google.com/uc?id=1bbMNrNRyscrvxhxU0Lt7wL9A7N9MA3vZ\n",
            "To: /content/5996.png\n",
            "\r  0% 0.00/24.4k [00:00<?, ?B/s]\r100% 24.4k/24.4k [00:00<00:00, 39.4MB/s]\n"
          ]
        }
      ],
      "source": [
        "!gdown --id '1bbMNrNRyscrvxhxU0Lt7wL9A7N9MA3vZ'"
      ]
    },
    {
      "cell_type": "code",
      "execution_count": null,
      "metadata": {
        "id": "Ea1LwBE9QGNx"
      },
      "outputs": [],
      "source": [
        "LABEL = {\n",
        "    0: \"Không đeo khẩu trang\",\n",
        "    1: \"Đeo khẩu trang sai cách\",\n",
        "    2: \"Đeo khẩu trang đúng cách\"\n",
        "}"
      ]
    },
    {
      "cell_type": "code",
      "execution_count": null,
      "metadata": {
        "colab": {
          "base_uri": "https://localhost:8080/"
        },
        "id": "ljP_jHoBQWuG",
        "outputId": "14dd9485-a667-4d75-dcc8-f73188419c9d"
      },
      "outputs": [
        {
          "name": "stdout",
          "output_type": "stream",
          "text": [
            "/content/5996.png\n"
          ]
        }
      ],
      "source": [
        "path_img = input()"
      ]
    },
    {
      "cell_type": "code",
      "execution_count": null,
      "metadata": {
        "id": "JDIaMDCJRB2E"
      },
      "outputs": [],
      "source": [
        "img_transform = cv2.imread(os.path.join(path_img), cv2.IMREAD_GRAYSCALE)\n",
        "img_transform = cv2.resize(img_transform, (64 , 64))\n",
        "img_transform = img_transform.reshape(-1, 64, 64, 1)"
      ]
    },
    {
      "cell_type": "code",
      "execution_count": null,
      "metadata": {
        "id": "o5X3ZxIkbYaq"
      },
      "outputs": [],
      "source": [
        "img_transform = img_transform / 255.0 "
      ]
    },
    {
      "cell_type": "code",
      "execution_count": null,
      "metadata": {
        "id": "i6k5lhrpQows"
      },
      "outputs": [],
      "source": [
        "label = np.argmax(cnn_model.predict(img_transform), axis=-1)"
      ]
    },
    {
      "cell_type": "code",
      "execution_count": null,
      "metadata": {
        "colab": {
          "base_uri": "https://localhost:8080/"
        },
        "id": "TiJsTb2fVe0l",
        "outputId": "48a56b72-4d52-4094-cc14-708607e279ba"
      },
      "outputs": [
        {
          "data": {
            "text/plain": [
              "array([0])"
            ]
          },
          "execution_count": 125,
          "metadata": {},
          "output_type": "execute_result"
        }
      ],
      "source": [
        "label"
      ]
    },
    {
      "cell_type": "code",
      "execution_count": null,
      "metadata": {
        "colab": {
          "base_uri": "https://localhost:8080/"
        },
        "id": "9wHy2N4dR9kX",
        "outputId": "3ba3e63b-20ea-47cb-b32e-fbdca42b2546"
      },
      "outputs": [
        {
          "name": "stdout",
          "output_type": "stream",
          "text": [
            "Nhan cua hinh anh vua nhap la: Không đeo khẩu trang\n"
          ]
        }
      ],
      "source": [
        "print(\"Nhan cua hinh anh vua nhap la: {}\".format(LABEL[label[0]]))"
      ]
    },
    {
      "cell_type": "code",
      "execution_count": null,
      "metadata": {
        "id": "ephPoquZSBCO"
      },
      "outputs": [],
      "source": [
        ""
      ]
    },
    {
      "cell_type": "code",
      "execution_count": null,
      "metadata": {
        "id": "Zm8uOTXaSA_m"
      },
      "outputs": [],
      "source": [
        ""
      ]
    }
  ],
  "metadata": {
    "accelerator": "GPU",
    "colab": {
      "collapsed_sections": [],
      "name": "CNN_Classifier.ipynb",
      "provenance": [],
      "toc_visible": true
    },
    "kernelspec": {
      "display_name": "Python 3",
      "name": "python3"
    }
  },
  "nbformat": 4,
  "nbformat_minor": 0
}